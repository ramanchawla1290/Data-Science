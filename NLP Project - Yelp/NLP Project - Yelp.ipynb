{
 "cells": [
  {
   "cell_type": "markdown",
   "metadata": {},
   "source": [
    "# Natural Language Processing Project : YELP\n",
    "\n",
    "In this NLP project we will be attempting to classify Yelp Reviews into 1 star or 5 star categories based off the text content in the reviews.\n",
    "\n",
    "**DATA SET :** [Yelp Review Data Set from Kaggle](https://www.kaggle.com/c/yelp-recsys-2013).\n",
    "\n",
    "Each observation in this dataset is a review of a particular business by a particular user.\n",
    "\n",
    "- The **stars** column is the number of stars (1 through 5) assigned by the reviewer to the business. (*Higher stars is better*).\n",
    "- In other words, ***it is the rating of the business*** by the person who wrote the review.<br><br>\n",
    "\n",
    "- The **cool** column is the number of \"cool\" votes this review received from other Yelp users. All reviews start with 0 \"cool\" votes, and there is no limit to how many \"cool\" votes a review can receive.\n",
    "- In other words, ***it is a rating of the review itself***, not a rating of the business.<br><br>\n",
    "\n",
    "- The **useful** and **funny** columns are similar to the **cool** column.\n",
    "\n",
    "Let's get started!"
   ]
  },
  {
   "cell_type": "markdown",
   "metadata": {},
   "source": [
    "### Imports"
   ]
  },
  {
   "cell_type": "code",
   "execution_count": 1,
   "metadata": {},
   "outputs": [],
   "source": [
    "import numpy as np\n",
    "import pandas as pd\n",
    "\n",
    "import matplotlib.pyplot as plt\n",
    "import seaborn as sns\n",
    "\n",
    "plt.style.use('seaborn')\n",
    "\n",
    "%matplotlib inline"
   ]
  },
  {
   "cell_type": "code",
   "execution_count": 2,
   "metadata": {},
   "outputs": [],
   "source": [
    "# import nltk\n",
    "\n",
    "# nltk.download_shell()    # To download \"stopwords\""
   ]
  },
  {
   "cell_type": "code",
   "execution_count": 3,
   "metadata": {},
   "outputs": [],
   "source": [
    "import string\n",
    "\n",
    "from nltk.corpus import stopwords"
   ]
  },
  {
   "cell_type": "code",
   "execution_count": 4,
   "metadata": {},
   "outputs": [],
   "source": [
    "from sklearn.model_selection import train_test_split, GridSearchCV\n",
    "\n",
    "from sklearn.feature_extraction.text import CountVectorizer, TfidfTransformer\n",
    "\n",
    "from sklearn.naive_bayes import MultinomialNB\n",
    "from sklearn.ensemble import RandomForestClassifier\n",
    "\n",
    "from sklearn.pipeline import Pipeline\n",
    "\n",
    "from sklearn.metrics import classification_report, confusion_matrix"
   ]
  },
  {
   "cell_type": "markdown",
   "metadata": {},
   "source": [
    "### Getting the data\n",
    "___\n",
    "\n",
    "* Reading the <code>yelp.csv</code> file"
   ]
  },
  {
   "cell_type": "code",
   "execution_count": 5,
   "metadata": {},
   "outputs": [],
   "source": [
    "yelp_data = pd.read_csv('./yelp.csv')"
   ]
  },
  {
   "cell_type": "markdown",
   "metadata": {},
   "source": [
    "** Check the head, info , and describe methods on yelp.**"
   ]
  },
  {
   "cell_type": "code",
   "execution_count": 6,
   "metadata": {},
   "outputs": [
    {
     "data": {
      "text/html": [
       "<div>\n",
       "<style scoped>\n",
       "    .dataframe tbody tr th:only-of-type {\n",
       "        vertical-align: middle;\n",
       "    }\n",
       "\n",
       "    .dataframe tbody tr th {\n",
       "        vertical-align: top;\n",
       "    }\n",
       "\n",
       "    .dataframe thead th {\n",
       "        text-align: right;\n",
       "    }\n",
       "</style>\n",
       "<table border=\"1\" class=\"dataframe\">\n",
       "  <thead>\n",
       "    <tr style=\"text-align: right;\">\n",
       "      <th></th>\n",
       "      <th>business_id</th>\n",
       "      <th>date</th>\n",
       "      <th>review_id</th>\n",
       "      <th>stars</th>\n",
       "      <th>text</th>\n",
       "      <th>type</th>\n",
       "      <th>user_id</th>\n",
       "      <th>cool</th>\n",
       "      <th>useful</th>\n",
       "      <th>funny</th>\n",
       "    </tr>\n",
       "  </thead>\n",
       "  <tbody>\n",
       "    <tr>\n",
       "      <th>0</th>\n",
       "      <td>9yKzy9PApeiPPOUJEtnvkg</td>\n",
       "      <td>2011-01-26</td>\n",
       "      <td>fWKvX83p0-ka4JS3dc6E5A</td>\n",
       "      <td>5</td>\n",
       "      <td>My wife took me here on my birthday for breakf...</td>\n",
       "      <td>review</td>\n",
       "      <td>rLtl8ZkDX5vH5nAx9C3q5Q</td>\n",
       "      <td>2</td>\n",
       "      <td>5</td>\n",
       "      <td>0</td>\n",
       "    </tr>\n",
       "    <tr>\n",
       "      <th>1</th>\n",
       "      <td>ZRJwVLyzEJq1VAihDhYiow</td>\n",
       "      <td>2011-07-27</td>\n",
       "      <td>IjZ33sJrzXqU-0X6U8NwyA</td>\n",
       "      <td>5</td>\n",
       "      <td>I have no idea why some people give bad review...</td>\n",
       "      <td>review</td>\n",
       "      <td>0a2KyEL0d3Yb1V6aivbIuQ</td>\n",
       "      <td>0</td>\n",
       "      <td>0</td>\n",
       "      <td>0</td>\n",
       "    </tr>\n",
       "    <tr>\n",
       "      <th>2</th>\n",
       "      <td>6oRAC4uyJCsJl1X0WZpVSA</td>\n",
       "      <td>2012-06-14</td>\n",
       "      <td>IESLBzqUCLdSzSqm0eCSxQ</td>\n",
       "      <td>4</td>\n",
       "      <td>love the gyro plate. Rice is so good and I als...</td>\n",
       "      <td>review</td>\n",
       "      <td>0hT2KtfLiobPvh6cDC8JQg</td>\n",
       "      <td>0</td>\n",
       "      <td>1</td>\n",
       "      <td>0</td>\n",
       "    </tr>\n",
       "    <tr>\n",
       "      <th>3</th>\n",
       "      <td>_1QQZuf4zZOyFCvXc0o6Vg</td>\n",
       "      <td>2010-05-27</td>\n",
       "      <td>G-WvGaISbqqaMHlNnByodA</td>\n",
       "      <td>5</td>\n",
       "      <td>Rosie, Dakota, and I LOVE Chaparral Dog Park!!...</td>\n",
       "      <td>review</td>\n",
       "      <td>uZetl9T0NcROGOyFfughhg</td>\n",
       "      <td>1</td>\n",
       "      <td>2</td>\n",
       "      <td>0</td>\n",
       "    </tr>\n",
       "    <tr>\n",
       "      <th>4</th>\n",
       "      <td>6ozycU1RpktNG2-1BroVtw</td>\n",
       "      <td>2012-01-05</td>\n",
       "      <td>1uJFq2r5QfJG_6ExMRCaGw</td>\n",
       "      <td>5</td>\n",
       "      <td>General Manager Scott Petello is a good egg!!!...</td>\n",
       "      <td>review</td>\n",
       "      <td>vYmM4KTsC8ZfQBg-j5MWkw</td>\n",
       "      <td>0</td>\n",
       "      <td>0</td>\n",
       "      <td>0</td>\n",
       "    </tr>\n",
       "  </tbody>\n",
       "</table>\n",
       "</div>"
      ],
      "text/plain": [
       "              business_id        date               review_id  stars  \\\n",
       "0  9yKzy9PApeiPPOUJEtnvkg  2011-01-26  fWKvX83p0-ka4JS3dc6E5A      5   \n",
       "1  ZRJwVLyzEJq1VAihDhYiow  2011-07-27  IjZ33sJrzXqU-0X6U8NwyA      5   \n",
       "2  6oRAC4uyJCsJl1X0WZpVSA  2012-06-14  IESLBzqUCLdSzSqm0eCSxQ      4   \n",
       "3  _1QQZuf4zZOyFCvXc0o6Vg  2010-05-27  G-WvGaISbqqaMHlNnByodA      5   \n",
       "4  6ozycU1RpktNG2-1BroVtw  2012-01-05  1uJFq2r5QfJG_6ExMRCaGw      5   \n",
       "\n",
       "                                                text    type  \\\n",
       "0  My wife took me here on my birthday for breakf...  review   \n",
       "1  I have no idea why some people give bad review...  review   \n",
       "2  love the gyro plate. Rice is so good and I als...  review   \n",
       "3  Rosie, Dakota, and I LOVE Chaparral Dog Park!!...  review   \n",
       "4  General Manager Scott Petello is a good egg!!!...  review   \n",
       "\n",
       "                  user_id  cool  useful  funny  \n",
       "0  rLtl8ZkDX5vH5nAx9C3q5Q     2       5      0  \n",
       "1  0a2KyEL0d3Yb1V6aivbIuQ     0       0      0  \n",
       "2  0hT2KtfLiobPvh6cDC8JQg     0       1      0  \n",
       "3  uZetl9T0NcROGOyFfughhg     1       2      0  \n",
       "4  vYmM4KTsC8ZfQBg-j5MWkw     0       0      0  "
      ]
     },
     "execution_count": 6,
     "metadata": {},
     "output_type": "execute_result"
    }
   ],
   "source": [
    "yelp_data.head()"
   ]
  },
  {
   "cell_type": "code",
   "execution_count": 7,
   "metadata": {},
   "outputs": [
    {
     "name": "stdout",
     "output_type": "stream",
     "text": [
      "<class 'pandas.core.frame.DataFrame'>\n",
      "RangeIndex: 10000 entries, 0 to 9999\n",
      "Data columns (total 10 columns):\n",
      " #   Column       Non-Null Count  Dtype \n",
      "---  ------       --------------  ----- \n",
      " 0   business_id  10000 non-null  object\n",
      " 1   date         10000 non-null  object\n",
      " 2   review_id    10000 non-null  object\n",
      " 3   stars        10000 non-null  int64 \n",
      " 4   text         10000 non-null  object\n",
      " 5   type         10000 non-null  object\n",
      " 6   user_id      10000 non-null  object\n",
      " 7   cool         10000 non-null  int64 \n",
      " 8   useful       10000 non-null  int64 \n",
      " 9   funny        10000 non-null  int64 \n",
      "dtypes: int64(4), object(6)\n",
      "memory usage: 11.1 MB\n"
     ]
    }
   ],
   "source": [
    "yelp_data.info(memory_usage='deep')"
   ]
  },
  {
   "cell_type": "code",
   "execution_count": 8,
   "metadata": {},
   "outputs": [
    {
     "data": {
      "text/html": [
       "<div>\n",
       "<style scoped>\n",
       "    .dataframe tbody tr th:only-of-type {\n",
       "        vertical-align: middle;\n",
       "    }\n",
       "\n",
       "    .dataframe tbody tr th {\n",
       "        vertical-align: top;\n",
       "    }\n",
       "\n",
       "    .dataframe thead th {\n",
       "        text-align: right;\n",
       "    }\n",
       "</style>\n",
       "<table border=\"1\" class=\"dataframe\">\n",
       "  <thead>\n",
       "    <tr style=\"text-align: right;\">\n",
       "      <th></th>\n",
       "      <th>stars</th>\n",
       "      <th>cool</th>\n",
       "      <th>useful</th>\n",
       "      <th>funny</th>\n",
       "    </tr>\n",
       "  </thead>\n",
       "  <tbody>\n",
       "    <tr>\n",
       "      <th>count</th>\n",
       "      <td>10000.000000</td>\n",
       "      <td>10000.000000</td>\n",
       "      <td>10000.000000</td>\n",
       "      <td>10000.000000</td>\n",
       "    </tr>\n",
       "    <tr>\n",
       "      <th>mean</th>\n",
       "      <td>3.777500</td>\n",
       "      <td>0.876800</td>\n",
       "      <td>1.409300</td>\n",
       "      <td>0.701300</td>\n",
       "    </tr>\n",
       "    <tr>\n",
       "      <th>std</th>\n",
       "      <td>1.214636</td>\n",
       "      <td>2.067861</td>\n",
       "      <td>2.336647</td>\n",
       "      <td>1.907942</td>\n",
       "    </tr>\n",
       "    <tr>\n",
       "      <th>min</th>\n",
       "      <td>1.000000</td>\n",
       "      <td>0.000000</td>\n",
       "      <td>0.000000</td>\n",
       "      <td>0.000000</td>\n",
       "    </tr>\n",
       "    <tr>\n",
       "      <th>25%</th>\n",
       "      <td>3.000000</td>\n",
       "      <td>0.000000</td>\n",
       "      <td>0.000000</td>\n",
       "      <td>0.000000</td>\n",
       "    </tr>\n",
       "    <tr>\n",
       "      <th>50%</th>\n",
       "      <td>4.000000</td>\n",
       "      <td>0.000000</td>\n",
       "      <td>1.000000</td>\n",
       "      <td>0.000000</td>\n",
       "    </tr>\n",
       "    <tr>\n",
       "      <th>75%</th>\n",
       "      <td>5.000000</td>\n",
       "      <td>1.000000</td>\n",
       "      <td>2.000000</td>\n",
       "      <td>1.000000</td>\n",
       "    </tr>\n",
       "    <tr>\n",
       "      <th>max</th>\n",
       "      <td>5.000000</td>\n",
       "      <td>77.000000</td>\n",
       "      <td>76.000000</td>\n",
       "      <td>57.000000</td>\n",
       "    </tr>\n",
       "  </tbody>\n",
       "</table>\n",
       "</div>"
      ],
      "text/plain": [
       "              stars          cool        useful         funny\n",
       "count  10000.000000  10000.000000  10000.000000  10000.000000\n",
       "mean       3.777500      0.876800      1.409300      0.701300\n",
       "std        1.214636      2.067861      2.336647      1.907942\n",
       "min        1.000000      0.000000      0.000000      0.000000\n",
       "25%        3.000000      0.000000      0.000000      0.000000\n",
       "50%        4.000000      0.000000      1.000000      0.000000\n",
       "75%        5.000000      1.000000      2.000000      1.000000\n",
       "max        5.000000     77.000000     76.000000     57.000000"
      ]
     },
     "execution_count": 8,
     "metadata": {},
     "output_type": "execute_result"
    }
   ],
   "source": [
    "yelp_data.describe()"
   ]
  },
  {
   "cell_type": "markdown",
   "metadata": {},
   "source": [
    "**Evaluating columns to remove the unimportant columns**"
   ]
  },
  {
   "cell_type": "code",
   "execution_count": 9,
   "metadata": {},
   "outputs": [
    {
     "data": {
      "text/plain": [
       "review    10000\n",
       "Name: type, dtype: int64"
      ]
     },
     "execution_count": 9,
     "metadata": {},
     "output_type": "execute_result"
    }
   ],
   "source": [
    "yelp_data['type'].value_counts()    # Same value throughout the dataset : NOT RELEVANT"
   ]
  },
  {
   "cell_type": "markdown",
   "metadata": {},
   "source": [
    "Also, columns **business_id, user_id, review_id, date** of a review are **IRRELEVANT** to our analysis"
   ]
  },
  {
   "cell_type": "code",
   "execution_count": 10,
   "metadata": {
    "scrolled": true
   },
   "outputs": [
    {
     "data": {
      "text/html": [
       "<div>\n",
       "<style scoped>\n",
       "    .dataframe tbody tr th:only-of-type {\n",
       "        vertical-align: middle;\n",
       "    }\n",
       "\n",
       "    .dataframe tbody tr th {\n",
       "        vertical-align: top;\n",
       "    }\n",
       "\n",
       "    .dataframe thead th {\n",
       "        text-align: right;\n",
       "    }\n",
       "</style>\n",
       "<table border=\"1\" class=\"dataframe\">\n",
       "  <thead>\n",
       "    <tr style=\"text-align: right;\">\n",
       "      <th></th>\n",
       "      <th>text</th>\n",
       "      <th>stars</th>\n",
       "      <th>cool</th>\n",
       "      <th>useful</th>\n",
       "      <th>funny</th>\n",
       "    </tr>\n",
       "  </thead>\n",
       "  <tbody>\n",
       "    <tr>\n",
       "      <th>0</th>\n",
       "      <td>My wife took me here on my birthday for breakf...</td>\n",
       "      <td>5</td>\n",
       "      <td>2</td>\n",
       "      <td>5</td>\n",
       "      <td>0</td>\n",
       "    </tr>\n",
       "    <tr>\n",
       "      <th>1</th>\n",
       "      <td>I have no idea why some people give bad review...</td>\n",
       "      <td>5</td>\n",
       "      <td>0</td>\n",
       "      <td>0</td>\n",
       "      <td>0</td>\n",
       "    </tr>\n",
       "    <tr>\n",
       "      <th>2</th>\n",
       "      <td>love the gyro plate. Rice is so good and I als...</td>\n",
       "      <td>4</td>\n",
       "      <td>0</td>\n",
       "      <td>1</td>\n",
       "      <td>0</td>\n",
       "    </tr>\n",
       "    <tr>\n",
       "      <th>3</th>\n",
       "      <td>Rosie, Dakota, and I LOVE Chaparral Dog Park!!...</td>\n",
       "      <td>5</td>\n",
       "      <td>1</td>\n",
       "      <td>2</td>\n",
       "      <td>0</td>\n",
       "    </tr>\n",
       "    <tr>\n",
       "      <th>4</th>\n",
       "      <td>General Manager Scott Petello is a good egg!!!...</td>\n",
       "      <td>5</td>\n",
       "      <td>0</td>\n",
       "      <td>0</td>\n",
       "      <td>0</td>\n",
       "    </tr>\n",
       "  </tbody>\n",
       "</table>\n",
       "</div>"
      ],
      "text/plain": [
       "                                                text  stars  cool  useful  \\\n",
       "0  My wife took me here on my birthday for breakf...      5     2       5   \n",
       "1  I have no idea why some people give bad review...      5     0       0   \n",
       "2  love the gyro plate. Rice is so good and I als...      4     0       1   \n",
       "3  Rosie, Dakota, and I LOVE Chaparral Dog Park!!...      5     1       2   \n",
       "4  General Manager Scott Petello is a good egg!!!...      5     0       0   \n",
       "\n",
       "   funny  \n",
       "0      0  \n",
       "1      0  \n",
       "2      0  \n",
       "3      0  \n",
       "4      0  "
      ]
     },
     "execution_count": 10,
     "metadata": {},
     "output_type": "execute_result"
    }
   ],
   "source": [
    "yelp = yelp_data[['text', 'stars', 'cool', 'useful', 'funny']]\n",
    "\n",
    "yelp.head()"
   ]
  },
  {
   "cell_type": "markdown",
   "metadata": {},
   "source": [
    "**Creating a new column representing the text length for each review, labelled as \"text_length\"**"
   ]
  },
  {
   "cell_type": "code",
   "execution_count": 11,
   "metadata": {},
   "outputs": [
    {
     "name": "stderr",
     "output_type": "stream",
     "text": [
      "/tmp/ipykernel_29997/2815714269.py:1: SettingWithCopyWarning: \n",
      "A value is trying to be set on a copy of a slice from a DataFrame.\n",
      "Try using .loc[row_indexer,col_indexer] = value instead\n",
      "\n",
      "See the caveats in the documentation: https://pandas.pydata.org/pandas-docs/stable/user_guide/indexing.html#returning-a-view-versus-a-copy\n",
      "  yelp['text_length'] = yelp['text'].apply(len)\n"
     ]
    },
    {
     "data": {
      "text/html": [
       "<div>\n",
       "<style scoped>\n",
       "    .dataframe tbody tr th:only-of-type {\n",
       "        vertical-align: middle;\n",
       "    }\n",
       "\n",
       "    .dataframe tbody tr th {\n",
       "        vertical-align: top;\n",
       "    }\n",
       "\n",
       "    .dataframe thead th {\n",
       "        text-align: right;\n",
       "    }\n",
       "</style>\n",
       "<table border=\"1\" class=\"dataframe\">\n",
       "  <thead>\n",
       "    <tr style=\"text-align: right;\">\n",
       "      <th></th>\n",
       "      <th>text</th>\n",
       "      <th>stars</th>\n",
       "      <th>cool</th>\n",
       "      <th>useful</th>\n",
       "      <th>funny</th>\n",
       "      <th>text_length</th>\n",
       "    </tr>\n",
       "  </thead>\n",
       "  <tbody>\n",
       "    <tr>\n",
       "      <th>0</th>\n",
       "      <td>My wife took me here on my birthday for breakf...</td>\n",
       "      <td>5</td>\n",
       "      <td>2</td>\n",
       "      <td>5</td>\n",
       "      <td>0</td>\n",
       "      <td>889</td>\n",
       "    </tr>\n",
       "    <tr>\n",
       "      <th>1</th>\n",
       "      <td>I have no idea why some people give bad review...</td>\n",
       "      <td>5</td>\n",
       "      <td>0</td>\n",
       "      <td>0</td>\n",
       "      <td>0</td>\n",
       "      <td>1345</td>\n",
       "    </tr>\n",
       "    <tr>\n",
       "      <th>2</th>\n",
       "      <td>love the gyro plate. Rice is so good and I als...</td>\n",
       "      <td>4</td>\n",
       "      <td>0</td>\n",
       "      <td>1</td>\n",
       "      <td>0</td>\n",
       "      <td>76</td>\n",
       "    </tr>\n",
       "    <tr>\n",
       "      <th>3</th>\n",
       "      <td>Rosie, Dakota, and I LOVE Chaparral Dog Park!!...</td>\n",
       "      <td>5</td>\n",
       "      <td>1</td>\n",
       "      <td>2</td>\n",
       "      <td>0</td>\n",
       "      <td>419</td>\n",
       "    </tr>\n",
       "    <tr>\n",
       "      <th>4</th>\n",
       "      <td>General Manager Scott Petello is a good egg!!!...</td>\n",
       "      <td>5</td>\n",
       "      <td>0</td>\n",
       "      <td>0</td>\n",
       "      <td>0</td>\n",
       "      <td>469</td>\n",
       "    </tr>\n",
       "  </tbody>\n",
       "</table>\n",
       "</div>"
      ],
      "text/plain": [
       "                                                text  stars  cool  useful  \\\n",
       "0  My wife took me here on my birthday for breakf...      5     2       5   \n",
       "1  I have no idea why some people give bad review...      5     0       0   \n",
       "2  love the gyro plate. Rice is so good and I als...      4     0       1   \n",
       "3  Rosie, Dakota, and I LOVE Chaparral Dog Park!!...      5     1       2   \n",
       "4  General Manager Scott Petello is a good egg!!!...      5     0       0   \n",
       "\n",
       "   funny  text_length  \n",
       "0      0          889  \n",
       "1      0         1345  \n",
       "2      0           76  \n",
       "3      0          419  \n",
       "4      0          469  "
      ]
     },
     "execution_count": 11,
     "metadata": {},
     "output_type": "execute_result"
    }
   ],
   "source": [
    "yelp['text_length'] = yelp['text'].apply(len)\n",
    "\n",
    "yelp.head()"
   ]
  },
  {
   "cell_type": "markdown",
   "metadata": {},
   "source": [
    "# EDA\n",
    "___\n",
    "\n",
    "Let's explore the data"
   ]
  },
  {
   "cell_type": "code",
   "execution_count": 12,
   "metadata": {},
   "outputs": [
    {
     "data": {
      "text/html": [
       "<div>\n",
       "<style scoped>\n",
       "    .dataframe tbody tr th:only-of-type {\n",
       "        vertical-align: middle;\n",
       "    }\n",
       "\n",
       "    .dataframe tbody tr th {\n",
       "        vertical-align: top;\n",
       "    }\n",
       "\n",
       "    .dataframe thead th {\n",
       "        text-align: right;\n",
       "    }\n",
       "</style>\n",
       "<table border=\"1\" class=\"dataframe\">\n",
       "  <thead>\n",
       "    <tr style=\"text-align: right;\">\n",
       "      <th>stars</th>\n",
       "      <th>1</th>\n",
       "      <th>2</th>\n",
       "      <th>3</th>\n",
       "      <th>4</th>\n",
       "      <th>5</th>\n",
       "    </tr>\n",
       "  </thead>\n",
       "  <tbody>\n",
       "    <tr>\n",
       "      <th>count</th>\n",
       "      <td>749.000000</td>\n",
       "      <td>927.000000</td>\n",
       "      <td>1461.000000</td>\n",
       "      <td>3526.000000</td>\n",
       "      <td>3337.000000</td>\n",
       "    </tr>\n",
       "    <tr>\n",
       "      <th>mean</th>\n",
       "      <td>826.515354</td>\n",
       "      <td>842.256742</td>\n",
       "      <td>758.498289</td>\n",
       "      <td>712.923142</td>\n",
       "      <td>624.999101</td>\n",
       "    </tr>\n",
       "    <tr>\n",
       "      <th>std</th>\n",
       "      <td>742.929304</td>\n",
       "      <td>704.079491</td>\n",
       "      <td>627.594294</td>\n",
       "      <td>600.158476</td>\n",
       "      <td>558.578229</td>\n",
       "    </tr>\n",
       "    <tr>\n",
       "      <th>min</th>\n",
       "      <td>11.000000</td>\n",
       "      <td>7.000000</td>\n",
       "      <td>1.000000</td>\n",
       "      <td>2.000000</td>\n",
       "      <td>6.000000</td>\n",
       "    </tr>\n",
       "    <tr>\n",
       "      <th>25%</th>\n",
       "      <td>315.000000</td>\n",
       "      <td>365.500000</td>\n",
       "      <td>342.000000</td>\n",
       "      <td>307.000000</td>\n",
       "      <td>243.000000</td>\n",
       "    </tr>\n",
       "    <tr>\n",
       "      <th>50%</th>\n",
       "      <td>600.000000</td>\n",
       "      <td>656.000000</td>\n",
       "      <td>599.000000</td>\n",
       "      <td>551.500000</td>\n",
       "      <td>471.000000</td>\n",
       "    </tr>\n",
       "    <tr>\n",
       "      <th>75%</th>\n",
       "      <td>1075.000000</td>\n",
       "      <td>1105.000000</td>\n",
       "      <td>975.000000</td>\n",
       "      <td>945.750000</td>\n",
       "      <td>826.000000</td>\n",
       "    </tr>\n",
       "    <tr>\n",
       "      <th>max</th>\n",
       "      <td>4618.000000</td>\n",
       "      <td>4972.000000</td>\n",
       "      <td>4975.000000</td>\n",
       "      <td>4997.000000</td>\n",
       "      <td>4986.000000</td>\n",
       "    </tr>\n",
       "  </tbody>\n",
       "</table>\n",
       "</div>"
      ],
      "text/plain": [
       "stars            1            2            3            4            5\n",
       "count   749.000000   927.000000  1461.000000  3526.000000  3337.000000\n",
       "mean    826.515354   842.256742   758.498289   712.923142   624.999101\n",
       "std     742.929304   704.079491   627.594294   600.158476   558.578229\n",
       "min      11.000000     7.000000     1.000000     2.000000     6.000000\n",
       "25%     315.000000   365.500000   342.000000   307.000000   243.000000\n",
       "50%     600.000000   656.000000   599.000000   551.500000   471.000000\n",
       "75%    1075.000000  1105.000000   975.000000   945.750000   826.000000\n",
       "max    4618.000000  4972.000000  4975.000000  4997.000000  4986.000000"
      ]
     },
     "execution_count": 12,
     "metadata": {},
     "output_type": "execute_result"
    }
   ],
   "source": [
    "# Text Lengths for every star value\n",
    "\n",
    "yelp.groupby('stars')['text_length'].describe().T"
   ]
  },
  {
   "cell_type": "code",
   "execution_count": 13,
   "metadata": {},
   "outputs": [
    {
     "data": {
      "text/plain": [
       "<AxesSubplot:xlabel='stars', ylabel='count'>"
      ]
     },
     "execution_count": 13,
     "metadata": {},
     "output_type": "execute_result"
    },
    {
     "data": {
      "image/png": "[encoded data removed]",
      "text/plain": [
       "<Figure size 864x432 with 1 Axes>"
      ]
     },
     "metadata": {
      "needs_background": "light"
     },
     "output_type": "display_data"
    }
   ],
   "source": [
    "plt.figure(figsize=(12, 6))\n",
    "\n",
    "sns.countplot(data=yelp, x='stars')"
   ]
  },
  {
   "cell_type": "code",
   "execution_count": 14,
   "metadata": {},
   "outputs": [
    {
     "data": {
      "text/plain": [
       "<seaborn.axisgrid.FacetGrid at 0x7fd08e93eb50>"
      ]
     },
     "execution_count": 14,
     "metadata": {},
     "output_type": "execute_result"
    },
    {
     "data": {
      "image/png": "[encoded data removed]",
      "text/plain": [
       "<Figure size 864x1080 with 5 Axes>"
      ]
     },
     "metadata": {
      "needs_background": "light"
     },
     "output_type": "display_data"
    }
   ],
   "source": [
    "fg = sns.FacetGrid(data=yelp, row='stars', aspect=4, height=3, sharex=False)\n",
    "\n",
    "\n",
    "fg.map(sns.histplot, 'text_length', bins=100)"
   ]
  },
  {
   "cell_type": "markdown",
   "metadata": {},
   "source": [
    "<big>**OBSERVATION**:<br><br> While there is quite a variance in the quantity of reviews across different star values, **the distribution of text lengths seems to be quite similar for each star value**</big>"
   ]
  },
  {
   "cell_type": "code",
   "execution_count": 15,
   "metadata": {},
   "outputs": [
    {
     "data": {
      "text/plain": [
       "<AxesSubplot:xlabel='stars', ylabel='text_length'>"
      ]
     },
     "execution_count": 15,
     "metadata": {},
     "output_type": "execute_result"
    },
    {
     "data": {
      "image/png": "[encoded data removed]",
      "text/plain": [
       "<Figure size 864x432 with 1 Axes>"
      ]
     },
     "metadata": {
      "needs_background": "light"
     },
     "output_type": "display_data"
    }
   ],
   "source": [
    "plt.figure(figsize=(12, 6))\n",
    "\n",
    "sns.boxplot(data=yelp, x='stars', y='text_length')"
   ]
  },
  {
   "cell_type": "markdown",
   "metadata": {},
   "source": [
    "**Let's explore correlations**"
   ]
  },
  {
   "cell_type": "code",
   "execution_count": 16,
   "metadata": {},
   "outputs": [
    {
     "data": {
      "text/html": [
       "<div>\n",
       "<style scoped>\n",
       "    .dataframe tbody tr th:only-of-type {\n",
       "        vertical-align: middle;\n",
       "    }\n",
       "\n",
       "    .dataframe tbody tr th {\n",
       "        vertical-align: top;\n",
       "    }\n",
       "\n",
       "    .dataframe thead th {\n",
       "        text-align: right;\n",
       "    }\n",
       "</style>\n",
       "<table border=\"1\" class=\"dataframe\">\n",
       "  <thead>\n",
       "    <tr style=\"text-align: right;\">\n",
       "      <th></th>\n",
       "      <th>cool</th>\n",
       "      <th>useful</th>\n",
       "      <th>funny</th>\n",
       "      <th>text_length</th>\n",
       "    </tr>\n",
       "    <tr>\n",
       "      <th>stars</th>\n",
       "      <th></th>\n",
       "      <th></th>\n",
       "      <th></th>\n",
       "      <th></th>\n",
       "    </tr>\n",
       "  </thead>\n",
       "  <tbody>\n",
       "    <tr>\n",
       "      <th>1</th>\n",
       "      <td>0.576769</td>\n",
       "      <td>1.604806</td>\n",
       "      <td>1.056075</td>\n",
       "      <td>826.515354</td>\n",
       "    </tr>\n",
       "    <tr>\n",
       "      <th>2</th>\n",
       "      <td>0.719525</td>\n",
       "      <td>1.563107</td>\n",
       "      <td>0.875944</td>\n",
       "      <td>842.256742</td>\n",
       "    </tr>\n",
       "    <tr>\n",
       "      <th>3</th>\n",
       "      <td>0.788501</td>\n",
       "      <td>1.306639</td>\n",
       "      <td>0.694730</td>\n",
       "      <td>758.498289</td>\n",
       "    </tr>\n",
       "    <tr>\n",
       "      <th>4</th>\n",
       "      <td>0.954623</td>\n",
       "      <td>1.395916</td>\n",
       "      <td>0.670448</td>\n",
       "      <td>712.923142</td>\n",
       "    </tr>\n",
       "    <tr>\n",
       "      <th>5</th>\n",
       "      <td>0.944261</td>\n",
       "      <td>1.381780</td>\n",
       "      <td>0.608631</td>\n",
       "      <td>624.999101</td>\n",
       "    </tr>\n",
       "  </tbody>\n",
       "</table>\n",
       "</div>"
      ],
      "text/plain": [
       "           cool    useful     funny  text_length\n",
       "stars                                           \n",
       "1      0.576769  1.604806  1.056075   826.515354\n",
       "2      0.719525  1.563107  0.875944   842.256742\n",
       "3      0.788501  1.306639  0.694730   758.498289\n",
       "4      0.954623  1.395916  0.670448   712.923142\n",
       "5      0.944261  1.381780  0.608631   624.999101"
      ]
     },
     "execution_count": 16,
     "metadata": {},
     "output_type": "execute_result"
    }
   ],
   "source": [
    "yelp.groupby('stars').mean()"
   ]
  },
  {
   "cell_type": "code",
   "execution_count": 17,
   "metadata": {},
   "outputs": [
    {
     "data": {
      "text/html": [
       "<div>\n",
       "<style scoped>\n",
       "    .dataframe tbody tr th:only-of-type {\n",
       "        vertical-align: middle;\n",
       "    }\n",
       "\n",
       "    .dataframe tbody tr th {\n",
       "        vertical-align: top;\n",
       "    }\n",
       "\n",
       "    .dataframe thead th {\n",
       "        text-align: right;\n",
       "    }\n",
       "</style>\n",
       "<table border=\"1\" class=\"dataframe\">\n",
       "  <thead>\n",
       "    <tr style=\"text-align: right;\">\n",
       "      <th></th>\n",
       "      <th>cool</th>\n",
       "      <th>useful</th>\n",
       "      <th>funny</th>\n",
       "      <th>text_length</th>\n",
       "    </tr>\n",
       "  </thead>\n",
       "  <tbody>\n",
       "    <tr>\n",
       "      <th>cool</th>\n",
       "      <td>1.000000</td>\n",
       "      <td>-0.743329</td>\n",
       "      <td>-0.944939</td>\n",
       "      <td>-0.857664</td>\n",
       "    </tr>\n",
       "    <tr>\n",
       "      <th>useful</th>\n",
       "      <td>-0.743329</td>\n",
       "      <td>1.000000</td>\n",
       "      <td>0.894506</td>\n",
       "      <td>0.699881</td>\n",
       "    </tr>\n",
       "    <tr>\n",
       "      <th>funny</th>\n",
       "      <td>-0.944939</td>\n",
       "      <td>0.894506</td>\n",
       "      <td>1.000000</td>\n",
       "      <td>0.843461</td>\n",
       "    </tr>\n",
       "    <tr>\n",
       "      <th>text_length</th>\n",
       "      <td>-0.857664</td>\n",
       "      <td>0.699881</td>\n",
       "      <td>0.843461</td>\n",
       "      <td>1.000000</td>\n",
       "    </tr>\n",
       "  </tbody>\n",
       "</table>\n",
       "</div>"
      ],
      "text/plain": [
       "                 cool    useful     funny  text_length\n",
       "cool         1.000000 -0.743329 -0.944939    -0.857664\n",
       "useful      -0.743329  1.000000  0.894506     0.699881\n",
       "funny       -0.944939  0.894506  1.000000     0.843461\n",
       "text_length -0.857664  0.699881  0.843461     1.000000"
      ]
     },
     "execution_count": 17,
     "metadata": {},
     "output_type": "execute_result"
    }
   ],
   "source": [
    "# Correlations\n",
    "\n",
    "yelp.groupby('stars').mean().corr()"
   ]
  },
  {
   "cell_type": "code",
   "execution_count": 18,
   "metadata": {},
   "outputs": [
    {
     "data": {
      "text/plain": [
       "<AxesSubplot:>"
      ]
     },
     "execution_count": 18,
     "metadata": {},
     "output_type": "execute_result"
    },
    {
     "data": {
      "image/png": "[encoded data removed]",
      "text/plain": [
       "<Figure size 576x432 with 2 Axes>"
      ]
     },
     "metadata": {
      "needs_background": "light"
     },
     "output_type": "display_data"
    }
   ],
   "source": [
    "plt.figure(figsize=(8,6))\n",
    "\n",
    "sns.heatmap(data=yelp.groupby('stars').mean().corr(),\n",
    "            cmap=\"coolwarm\", annot=True)"
   ]
  },
  {
   "cell_type": "markdown",
   "metadata": {},
   "source": [
    "## NLP Classification Task\n",
    "___\n",
    "\n",
    "**TARGET** : Training a model to classify messages to 1 star or 5 star category\n",
    "___"
   ]
  },
  {
   "cell_type": "markdown",
   "metadata": {},
   "source": [
    "**Step 1** : Filter out only 1 and 5 star reviews from dataset"
   ]
  },
  {
   "cell_type": "code",
   "execution_count": 19,
   "metadata": {},
   "outputs": [
    {
     "data": {
      "text/plain": [
       "5    3337\n",
       "1     749\n",
       "Name: stars, dtype: int64"
      ]
     },
     "execution_count": 19,
     "metadata": {},
     "output_type": "execute_result"
    }
   ],
   "source": [
    "filter_ = (yelp['stars'] == 1) | (yelp['stars'] == 5)\n",
    "\n",
    "yelp_filtered = yelp[filter_]\n",
    "\n",
    "yelp_filtered['stars'].value_counts()"
   ]
  },
  {
   "cell_type": "code",
   "execution_count": 20,
   "metadata": {},
   "outputs": [
    {
     "data": {
      "text/plain": [
       "4086"
      ]
     },
     "execution_count": 20,
     "metadata": {},
     "output_type": "execute_result"
    }
   ],
   "source": [
    "len(yelp_filtered)"
   ]
  },
  {
   "cell_type": "markdown",
   "metadata": {},
   "source": [
    "**Step 2** : Defining a function to clean and Tokenize the messages"
   ]
  },
  {
   "cell_type": "code",
   "execution_count": 21,
   "metadata": {},
   "outputs": [],
   "source": [
    "def get_tokens(text):\n",
    "    \"\"\"\n",
    "    Removes punctuations\n",
    "    Removes common english words(low significance)\n",
    "    Returns Keywords / Tokens (important words)\n",
    "    \"\"\"\n",
    "    # Removing Punctuations\n",
    "    text = \"\".join(ch for ch in text.strip() if ch not in string.punctuation)\n",
    "    \n",
    "    # Returning Tokens after removing low significance words\n",
    "    return [word for word in text.split() if word.lower() not in stopwords.words('english')]"
   ]
  },
  {
   "cell_type": "code",
   "execution_count": 22,
   "metadata": {},
   "outputs": [
    {
     "data": {
      "text/plain": [
       "['hope', 'want', 'say', 'important']"
      ]
     },
     "execution_count": 22,
     "metadata": {},
     "output_type": "execute_result"
    }
   ],
   "source": [
    "# testing our function on a sample message\n",
    "\n",
    "get_tokens(\"I hope so.... I just want to say that it is important for me!!!!\")"
   ]
  },
  {
   "cell_type": "markdown",
   "metadata": {},
   "source": [
    "**Step 3** : Creating a number of Pipelines with different options in order to find the optimum model"
   ]
  },
  {
   "cell_type": "code",
   "execution_count": 23,
   "metadata": {},
   "outputs": [],
   "source": [
    "param_grid_NB = {'alpha':[0.0001, 0.001, 0.01, 0.1, 1, 10]}"
   ]
  },
  {
   "cell_type": "code",
   "execution_count": 24,
   "metadata": {},
   "outputs": [],
   "source": [
    "# Option 1 : Multinomial Naive Bayes Classifier (without Tokenization and Normalization)\n",
    "\n",
    "# Workflow steps:\n",
    "    # 1. Create \"Bag of Words\" (BOW)\n",
    "                            # (Matrix of Unique Words in the text Corpus Vs thier count in each message)\n",
    "        \n",
    "    # 2. Classification Model : Multinomial Naive Bayes classifier.\n",
    "\n",
    "workflow = [('bow1', CountVectorizer(lowercase=False)),\n",
    "            ('classifier1', GridSearchCV(MultinomialNB(), param_grid_NB, verbose=3))]\n",
    "\n",
    "model_NB = Pipeline(workflow, verbose=True)"
   ]
  },
  {
   "cell_type": "code",
   "execution_count": 25,
   "metadata": {},
   "outputs": [],
   "source": [
    "# Option 2 : Multinomial Naive Bayes Classifier with Tokenized Data (without Normalization)\n",
    "\n",
    "# Workflow steps:\n",
    "    # 1. Tokenize messages and Create \"Bag of Words\" (BOW)\n",
    "                            # (Matrix of Unique Words in the text Corpus Vs thier count in each message)\n",
    "        \n",
    "    # 2. Classification Model : Multinomial Naive Bayes classifier.\n",
    "\n",
    "workflow = [('bow2', CountVectorizer(analyzer=get_tokens, lowercase=False)),\n",
    "            ('classifier2', GridSearchCV(MultinomialNB(), param_grid_NB, verbose=3))]\n",
    "\n",
    "model_NB_token = Pipeline(workflow, verbose=True)"
   ]
  },
  {
   "cell_type": "code",
   "execution_count": 26,
   "metadata": {},
   "outputs": [],
   "source": [
    "# Option 3 : Multinomial Naive Bayes Classifier with Tokenized and Normalized Data\n",
    "\n",
    "# Workflow steps:\n",
    "    # 1. Tokenize messages and Create \"Bag of Words\" (BOW)\n",
    "                            # (Matrix of Unique Words in the text Corpus Vs thier count in each message)\n",
    "        \n",
    "    # 2. Normalized Vectorization of BOW, using TF-IDF Weighted Values\n",
    "                            # TF : Term Frequency\n",
    "                            # TF of word W = Count of W in a message / Total Words in the message\n",
    "                            # IDF : Inverse Document Frequency\n",
    "                            # IDF of term t = log_e(Total messages / Count of messages containing term t)\n",
    "                    \n",
    "    # 3. Classification Model : Multinomial Naive Bayes classifier.\n",
    "\n",
    "workflow = [('bow3', CountVectorizer(analyzer=get_tokens, lowercase=False)),\n",
    "            ('tfidf3', TfidfTransformer()),\n",
    "            ('classifier3', GridSearchCV(MultinomialNB(), param_grid_NB, verbose=3))]\n",
    "\n",
    "model_NB_token_norm = Pipeline(workflow, verbose=True)"
   ]
  },
  {
   "cell_type": "code",
   "execution_count": 27,
   "metadata": {},
   "outputs": [],
   "source": [
    "param_grid_RF = {'n_jobs' : [1], 'n_estimators' : [25],\n",
    "#                  'ccp_alpha' : [num/10 for num in range(1,11)],\n",
    "                 'criterion' : ['gini', 'entropy'],\n",
    "                 'bootstrap' : [True, False]}"
   ]
  },
  {
   "cell_type": "code",
   "execution_count": 28,
   "metadata": {},
   "outputs": [],
   "source": [
    "# Option 4 : Random Forest Classifier (without Tokenization and Normalization)\n",
    "\n",
    "# Workflow steps:\n",
    "    # 1. Create \"Bag of Words\" (BOW)\n",
    "                            # (Matrix of Unique Words in the text Corpus Vs thier count in each message)\n",
    "        \n",
    "    # 2. Classification Model : Random Forest classifier.\n",
    "\n",
    "workflow = [('bow4', CountVectorizer(lowercase=False)),\n",
    "            ('classifier4', GridSearchCV(RandomForestClassifier(), param_grid_RF, verbose=3))]\n",
    "\n",
    "model_RF = Pipeline(workflow)"
   ]
  },
  {
   "cell_type": "code",
   "execution_count": 29,
   "metadata": {},
   "outputs": [],
   "source": [
    "# Option 5 : Random Forest Classifier with Tokenized Data (without Normalization)\n",
    "\n",
    "# Workflow steps:\n",
    "    # 1. Tokenize messages and Create \"Bag of Words\" (BOW)\n",
    "                            # (Matrix of Unique Words in the text Corpus Vs thier count in each message)\n",
    "        \n",
    "    # 2. Classification Model : Random Forest classifier.\n",
    "\n",
    "workflow = [('bow5', CountVectorizer(analyzer=get_tokens, lowercase=False)),\n",
    "            ('classifier5', GridSearchCV(RandomForestClassifier(), param_grid_RF, verbose=3))]\n",
    "\n",
    "model_RF_token = Pipeline(workflow)"
   ]
  },
  {
   "cell_type": "code",
   "execution_count": 30,
   "metadata": {},
   "outputs": [],
   "source": [
    "# Option 6 : Random Forest Classifier with Tokenized and Normalized Data\n",
    "\n",
    "# Workflow steps:\n",
    "    # 1. Tokenize messages and Create \"Bag of Words\" (BOW)\n",
    "                            # (Matrix of Unique Words in the text Corpus Vs thier count in each message)\n",
    "        \n",
    "    # 2. Normalized Vectorization of BOW, using TF-IDF Weighted Values\n",
    "                            # TF : Term Frequency\n",
    "                            # TF of word W = Count of W in a message / Total Words in the message\n",
    "                            # IDF : Inverse Document Frequency\n",
    "                            # IDF of term t = log_e(Total messages / Count of messages containing term t)\n",
    "                    \n",
    "    # 3. Classification Model : Random Forest classifier.\n",
    "\n",
    "workflow = [('bow6', CountVectorizer(analyzer=get_tokens, lowercase=False)),\n",
    "            ('tfidf6', TfidfTransformer()),\n",
    "            ('classifier6', GridSearchCV(RandomForestClassifier(), param_grid_RF, verbose=3))]\n",
    "\n",
    "model_RF_token_norm = Pipeline(workflow)"
   ]
  },
  {
   "cell_type": "markdown",
   "metadata": {},
   "source": [
    "**Step 4** : Train-Test Split"
   ]
  },
  {
   "cell_type": "code",
   "execution_count": 31,
   "metadata": {},
   "outputs": [],
   "source": [
    "# Step 4 : Train Test Split\n",
    "\n",
    "text_train, text_test, stars_train, stars_test = train_test_split(yelp_filtered['text'],\n",
    "                                                                  yelp_filtered['stars'],\n",
    "                                                                  test_size=0.25, random_state=101)"
   ]
  },
  {
   "cell_type": "code",
   "execution_count": 32,
   "metadata": {},
   "outputs": [
    {
     "data": {
      "text/plain": [
       "5    2499\n",
       "1     565\n",
       "Name: stars, dtype: int64"
      ]
     },
     "execution_count": 32,
     "metadata": {},
     "output_type": "execute_result"
    }
   ],
   "source": [
    "stars_train.value_counts()"
   ]
  },
  {
   "cell_type": "markdown",
   "metadata": {},
   "source": [
    "**Step 5** : Train Classifier Models"
   ]
  },
  {
   "cell_type": "code",
   "execution_count": 33,
   "metadata": {
    "scrolled": true
   },
   "outputs": [
    {
     "name": "stdout",
     "output_type": "stream",
     "text": [
      "[Pipeline] .............. (step 1 of 2) Processing bow1, total=   0.5s\n",
      "Fitting 5 folds for each of 6 candidates, totalling 30 fits\n",
      "[CV 1/5] END ......................alpha=0.0001;, score=0.884 total time=   0.0s\n",
      "[CV 2/5] END ......................alpha=0.0001;, score=0.886 total time=   0.0s\n",
      "[CV 3/5] END ......................alpha=0.0001;, score=0.889 total time=   0.0s\n",
      "[CV 4/5] END ......................alpha=0.0001;, score=0.891 total time=   0.0s\n",
      "[CV 5/5] END ......................alpha=0.0001;, score=0.899 total time=   0.0s\n",
      "[CV 1/5] END .......................alpha=0.001;, score=0.891 total time=   0.0s\n",
      "[CV 2/5] END .......................alpha=0.001;, score=0.896 total time=   0.0s\n",
      "[CV 3/5] END .......................alpha=0.001;, score=0.899 total time=   0.0s\n",
      "[CV 4/5] END .......................alpha=0.001;, score=0.900 total time=   0.0s\n",
      "[CV 5/5] END .......................alpha=0.001;, score=0.910 total time=   0.0s\n",
      "[CV 1/5] END ........................alpha=0.01;, score=0.909 total time=   0.0s\n",
      "[CV 2/5] END ........................alpha=0.01;, score=0.905 total time=   0.0s\n",
      "[CV 3/5] END ........................alpha=0.01;, score=0.914 total time=   0.0s\n",
      "[CV 4/5] END ........................alpha=0.01;, score=0.914 total time=   0.0s\n",
      "[CV 5/5] END ........................alpha=0.01;, score=0.920 total time=   0.0s\n",
      "[CV 1/5] END .........................alpha=0.1;, score=0.930 total time=   0.0s\n",
      "[CV 2/5] END .........................alpha=0.1;, score=0.912 total time=   0.0s\n",
      "[CV 3/5] END .........................alpha=0.1;, score=0.902 total time=   0.0s\n",
      "[CV 4/5] END .........................alpha=0.1;, score=0.920 total time=   0.0s\n",
      "[CV 5/5] END .........................alpha=0.1;, score=0.910 total time=   0.0s\n",
      "[CV 1/5] END ...........................alpha=1;, score=0.905 total time=   0.0s\n",
      "[CV 2/5] END ...........................alpha=1;, score=0.914 total time=   0.0s\n",
      "[CV 3/5] END ...........................alpha=1;, score=0.910 total time=   0.0s\n",
      "[CV 4/5] END ...........................alpha=1;, score=0.899 total time=   0.0s\n",
      "[CV 5/5] END ...........................alpha=1;, score=0.907 total time=   0.0s\n",
      "[CV 1/5] END ..........................alpha=10;, score=0.816 total time=   0.0s\n",
      "[CV 2/5] END ..........................alpha=10;, score=0.816 total time=   0.0s\n",
      "[CV 3/5] END ..........................alpha=10;, score=0.816 total time=   0.0s\n",
      "[CV 4/5] END ..........................alpha=10;, score=0.817 total time=   0.0s\n",
      "[CV 5/5] END ..........................alpha=10;, score=0.817 total time=   0.0s\n",
      "[Pipeline] ....... (step 2 of 2) Processing classifier1, total=   0.3s\n",
      "[Pipeline] .............. (step 1 of 2) Processing bow2, total=  38.1s\n",
      "Fitting 5 folds for each of 6 candidates, totalling 30 fits\n",
      "[CV 1/5] END ......................alpha=0.0001;, score=0.889 total time=   0.0s\n",
      "[CV 2/5] END ......................alpha=0.0001;, score=0.879 total time=   0.0s\n",
      "[CV 3/5] END ......................alpha=0.0001;, score=0.887 total time=   0.0s\n",
      "[CV 4/5] END ......................alpha=0.0001;, score=0.881 total time=   0.0s\n",
      "[CV 5/5] END ......................alpha=0.0001;, score=0.894 total time=   0.0s\n",
      "[CV 1/5] END .......................alpha=0.001;, score=0.905 total time=   0.0s\n",
      "[CV 2/5] END .......................alpha=0.001;, score=0.896 total time=   0.0s\n",
      "[CV 3/5] END .......................alpha=0.001;, score=0.894 total time=   0.0s\n",
      "[CV 4/5] END .......................alpha=0.001;, score=0.892 total time=   0.0s\n",
      "[CV 5/5] END .......................alpha=0.001;, score=0.905 total time=   0.0s\n",
      "[CV 1/5] END ........................alpha=0.01;, score=0.914 total time=   0.0s\n",
      "[CV 2/5] END ........................alpha=0.01;, score=0.900 total time=   0.0s\n",
      "[CV 3/5] END ........................alpha=0.01;, score=0.920 total time=   0.0s\n",
      "[CV 4/5] END ........................alpha=0.01;, score=0.910 total time=   0.0s\n",
      "[CV 5/5] END ........................alpha=0.01;, score=0.918 total time=   0.0s\n",
      "[CV 1/5] END .........................alpha=0.1;, score=0.914 total time=   0.0s\n",
      "[CV 2/5] END .........................alpha=0.1;, score=0.907 total time=   0.0s\n",
      "[CV 3/5] END .........................alpha=0.1;, score=0.910 total time=   0.0s\n",
      "[CV 4/5] END .........................alpha=0.1;, score=0.909 total time=   0.0s\n",
      "[CV 5/5] END .........................alpha=0.1;, score=0.907 total time=   0.0s\n",
      "[CV 1/5] END ...........................alpha=1;, score=0.915 total time=   0.0s\n",
      "[CV 2/5] END ...........................alpha=1;, score=0.904 total time=   0.0s\n",
      "[CV 3/5] END ...........................alpha=1;, score=0.914 total time=   0.0s\n",
      "[CV 4/5] END ...........................alpha=1;, score=0.899 total time=   0.0s\n",
      "[CV 5/5] END ...........................alpha=1;, score=0.902 total time=   0.0s\n",
      "[CV 1/5] END ..........................alpha=10;, score=0.816 total time=   0.0s\n",
      "[CV 2/5] END ..........................alpha=10;, score=0.816 total time=   0.0s\n",
      "[CV 3/5] END ..........................alpha=10;, score=0.817 total time=   0.0s\n",
      "[CV 4/5] END ..........................alpha=10;, score=0.819 total time=   0.0s\n",
      "[CV 5/5] END ..........................alpha=10;, score=0.815 total time=   0.0s\n",
      "[Pipeline] ....... (step 2 of 2) Processing classifier2, total=   0.2s\n",
      "[Pipeline] .............. (step 1 of 3) Processing bow3, total=  37.4s\n",
      "[Pipeline] ............ (step 2 of 3) Processing tfidf3, total=   0.0s\n",
      "Fitting 5 folds for each of 6 candidates, totalling 30 fits\n",
      "[CV 1/5] END ......................alpha=0.0001;, score=0.884 total time=   0.0s\n",
      "[CV 2/5] END ......................alpha=0.0001;, score=0.866 total time=   0.0s\n",
      "[CV 3/5] END ......................alpha=0.0001;, score=0.881 total time=   0.0s\n",
      "[CV 4/5] END ......................alpha=0.0001;, score=0.873 total time=   0.0s\n",
      "[CV 5/5] END ......................alpha=0.0001;, score=0.886 total time=   0.0s\n",
      "[CV 1/5] END .......................alpha=0.001;, score=0.905 total time=   0.0s\n",
      "[CV 2/5] END .......................alpha=0.001;, score=0.874 total time=   0.0s\n",
      "[CV 3/5] END .......................alpha=0.001;, score=0.892 total time=   0.0s\n",
      "[CV 4/5] END .......................alpha=0.001;, score=0.896 total time=   0.0s\n",
      "[CV 5/5] END .......................alpha=0.001;, score=0.907 total time=   0.0s\n",
      "[CV 1/5] END ........................alpha=0.01;, score=0.914 total time=   0.0s\n",
      "[CV 2/5] END ........................alpha=0.01;, score=0.886 total time=   0.0s\n",
      "[CV 3/5] END ........................alpha=0.01;, score=0.907 total time=   0.0s\n",
      "[CV 4/5] END ........................alpha=0.01;, score=0.904 total time=   0.0s\n",
      "[CV 5/5] END ........................alpha=0.01;, score=0.918 total time=   0.0s\n",
      "[CV 1/5] END .........................alpha=0.1;, score=0.892 total time=   0.0s\n",
      "[CV 2/5] END .........................alpha=0.1;, score=0.881 total time=   0.0s\n",
      "[CV 3/5] END .........................alpha=0.1;, score=0.894 total time=   0.0s\n",
      "[CV 4/5] END .........................alpha=0.1;, score=0.868 total time=   0.0s\n",
      "[CV 5/5] END .........................alpha=0.1;, score=0.895 total time=   0.0s\n",
      "[CV 1/5] END ...........................alpha=1;, score=0.816 total time=   0.0s\n",
      "[CV 2/5] END ...........................alpha=1;, score=0.816 total time=   0.0s\n",
      "[CV 3/5] END ...........................alpha=1;, score=0.816 total time=   0.0s\n",
      "[CV 4/5] END ...........................alpha=1;, score=0.817 total time=   0.0s\n",
      "[CV 5/5] END ...........................alpha=1;, score=0.815 total time=   0.0s\n",
      "[CV 1/5] END ..........................alpha=10;, score=0.816 total time=   0.0s\n",
      "[CV 2/5] END ..........................alpha=10;, score=0.816 total time=   0.0s\n",
      "[CV 3/5] END ..........................alpha=10;, score=0.816 total time=   0.0s\n",
      "[CV 4/5] END ..........................alpha=10;, score=0.816 total time=   0.0s\n",
      "[CV 5/5] END ..........................alpha=10;, score=0.815 total time=   0.0s\n",
      "[Pipeline] ....... (step 3 of 3) Processing classifier3, total=   0.2s\n"
     ]
    },
    {
     "data": {
      "text/plain": [
       "Pipeline(steps=[('bow3',\n",
       "                 CountVectorizer(analyzer=<function get_tokens at 0x7fd085740e50>,\n",
       "                                 lowercase=False)),\n",
       "                ('tfidf3', TfidfTransformer()),\n",
       "                ('classifier3',\n",
       "                 GridSearchCV(estimator=MultinomialNB(),\n",
       "                              param_grid={'alpha': [0.0001, 0.001, 0.01, 0.1, 1,\n",
       "                                                    10]},\n",
       "                              verbose=3))],\n",
       "         verbose=True)"
      ]
     },
     "execution_count": 33,
     "metadata": {},
     "output_type": "execute_result"
    }
   ],
   "source": [
    "model_NB.fit(text_train, stars_train)\n",
    "\n",
    "model_NB_token.fit(text_train, stars_train)\n",
    "\n",
    "model_NB_token_norm.fit(text_train, stars_train)"
   ]
  },
  {
   "cell_type": "code",
   "execution_count": 34,
   "metadata": {
    "scrolled": true
   },
   "outputs": [
    {
     "name": "stdout",
     "output_type": "stream",
     "text": [
      "Fitting 5 folds for each of 4 candidates, totalling 20 fits\n",
      "[CV 1/5] END bootstrap=True, criterion=gini, n_estimators=25, n_jobs=1;, score=0.847 total time=   0.9s\n",
      "[CV 2/5] END bootstrap=True, criterion=gini, n_estimators=25, n_jobs=1;, score=0.850 total time=   0.9s\n",
      "[CV 3/5] END bootstrap=True, criterion=gini, n_estimators=25, n_jobs=1;, score=0.853 total time=   0.9s\n",
      "[CV 4/5] END bootstrap=True, criterion=gini, n_estimators=25, n_jobs=1;, score=0.848 total time=   0.9s\n",
      "[CV 5/5] END bootstrap=True, criterion=gini, n_estimators=25, n_jobs=1;, score=0.856 total time=   0.8s\n",
      "[CV 1/5] END bootstrap=True, criterion=entropy, n_estimators=25, n_jobs=1;, score=0.837 total time=   0.7s\n",
      "[CV 2/5] END bootstrap=True, criterion=entropy, n_estimators=25, n_jobs=1;, score=0.838 total time=   0.7s\n",
      "[CV 3/5] END bootstrap=True, criterion=entropy, n_estimators=25, n_jobs=1;, score=0.838 total time=   0.7s\n",
      "[CV 4/5] END bootstrap=True, criterion=entropy, n_estimators=25, n_jobs=1;, score=0.852 total time=   0.7s\n",
      "[CV 5/5] END bootstrap=True, criterion=entropy, n_estimators=25, n_jobs=1;, score=0.837 total time=   0.7s\n",
      "[CV 1/5] END bootstrap=False, criterion=gini, n_estimators=25, n_jobs=1;, score=0.843 total time=   1.1s\n",
      "[CV 2/5] END bootstrap=False, criterion=gini, n_estimators=25, n_jobs=1;, score=0.853 total time=   1.2s\n",
      "[CV 3/5] END bootstrap=False, criterion=gini, n_estimators=25, n_jobs=1;, score=0.840 total time=   1.1s\n",
      "[CV 4/5] END bootstrap=False, criterion=gini, n_estimators=25, n_jobs=1;, score=0.856 total time=   1.1s\n",
      "[CV 5/5] END bootstrap=False, criterion=gini, n_estimators=25, n_jobs=1;, score=0.853 total time=   1.1s\n",
      "[CV 1/5] END bootstrap=False, criterion=entropy, n_estimators=25, n_jobs=1;, score=0.853 total time=   0.9s\n",
      "[CV 2/5] END bootstrap=False, criterion=entropy, n_estimators=25, n_jobs=1;, score=0.852 total time=   0.9s\n",
      "[CV 3/5] END bootstrap=False, criterion=entropy, n_estimators=25, n_jobs=1;, score=0.847 total time=   1.1s\n",
      "[CV 4/5] END bootstrap=False, criterion=entropy, n_estimators=25, n_jobs=1;, score=0.842 total time=   0.9s\n",
      "[CV 5/5] END bootstrap=False, criterion=entropy, n_estimators=25, n_jobs=1;, score=0.843 total time=   1.1s\n",
      "Fitting 5 folds for each of 4 candidates, totalling 20 fits\n",
      "[CV 1/5] END bootstrap=True, criterion=gini, n_estimators=25, n_jobs=1;, score=0.856 total time=   1.0s\n",
      "[CV 2/5] END bootstrap=True, criterion=gini, n_estimators=25, n_jobs=1;, score=0.858 total time=   0.9s\n",
      "[CV 3/5] END bootstrap=True, criterion=gini, n_estimators=25, n_jobs=1;, score=0.858 total time=   1.0s\n",
      "[CV 4/5] END bootstrap=True, criterion=gini, n_estimators=25, n_jobs=1;, score=0.868 total time=   1.0s\n",
      "[CV 5/5] END bootstrap=True, criterion=gini, n_estimators=25, n_jobs=1;, score=0.863 total time=   1.0s\n",
      "[CV 1/5] END bootstrap=True, criterion=entropy, n_estimators=25, n_jobs=1;, score=0.855 total time=   0.8s\n",
      "[CV 2/5] END bootstrap=True, criterion=entropy, n_estimators=25, n_jobs=1;, score=0.853 total time=   0.8s\n",
      "[CV 3/5] END bootstrap=True, criterion=entropy, n_estimators=25, n_jobs=1;, score=0.860 total time=   0.8s\n",
      "[CV 4/5] END bootstrap=True, criterion=entropy, n_estimators=25, n_jobs=1;, score=0.855 total time=   0.8s\n",
      "[CV 5/5] END bootstrap=True, criterion=entropy, n_estimators=25, n_jobs=1;, score=0.858 total time=   0.8s\n",
      "[CV 1/5] END bootstrap=False, criterion=gini, n_estimators=25, n_jobs=1;, score=0.883 total time=   1.4s\n",
      "[CV 2/5] END bootstrap=False, criterion=gini, n_estimators=25, n_jobs=1;, score=0.866 total time=   1.4s\n",
      "[CV 3/5] END bootstrap=False, criterion=gini, n_estimators=25, n_jobs=1;, score=0.873 total time=   1.3s\n",
      "[CV 4/5] END bootstrap=False, criterion=gini, n_estimators=25, n_jobs=1;, score=0.860 total time=   1.3s\n",
      "[CV 5/5] END bootstrap=False, criterion=gini, n_estimators=25, n_jobs=1;, score=0.858 total time=   1.5s\n",
      "[CV 1/5] END bootstrap=False, criterion=entropy, n_estimators=25, n_jobs=1;, score=0.856 total time=   1.1s\n",
      "[CV 2/5] END bootstrap=False, criterion=entropy, n_estimators=25, n_jobs=1;, score=0.848 total time=   2.2s\n",
      "[CV 3/5] END bootstrap=False, criterion=entropy, n_estimators=25, n_jobs=1;, score=0.874 total time=   1.8s\n",
      "[CV 4/5] END bootstrap=False, criterion=entropy, n_estimators=25, n_jobs=1;, score=0.855 total time=   1.7s\n",
      "[CV 5/5] END bootstrap=False, criterion=entropy, n_estimators=25, n_jobs=1;, score=0.869 total time=   1.3s\n",
      "Fitting 5 folds for each of 4 candidates, totalling 20 fits\n",
      "[CV 1/5] END bootstrap=True, criterion=gini, n_estimators=25, n_jobs=1;, score=0.845 total time=   1.0s\n",
      "[CV 2/5] END bootstrap=True, criterion=gini, n_estimators=25, n_jobs=1;, score=0.860 total time=   0.9s\n",
      "[CV 3/5] END bootstrap=True, criterion=gini, n_estimators=25, n_jobs=1;, score=0.845 total time=   1.0s\n",
      "[CV 4/5] END bootstrap=True, criterion=gini, n_estimators=25, n_jobs=1;, score=0.850 total time=   1.0s\n",
      "[CV 5/5] END bootstrap=True, criterion=gini, n_estimators=25, n_jobs=1;, score=0.850 total time=   0.9s\n",
      "[CV 1/5] END bootstrap=True, criterion=entropy, n_estimators=25, n_jobs=1;, score=0.847 total time=   0.8s\n",
      "[CV 2/5] END bootstrap=True, criterion=entropy, n_estimators=25, n_jobs=1;, score=0.847 total time=   0.8s\n",
      "[CV 3/5] END bootstrap=True, criterion=entropy, n_estimators=25, n_jobs=1;, score=0.843 total time=   0.9s\n",
      "[CV 4/5] END bootstrap=True, criterion=entropy, n_estimators=25, n_jobs=1;, score=0.848 total time=   0.8s\n",
      "[CV 5/5] END bootstrap=True, criterion=entropy, n_estimators=25, n_jobs=1;, score=0.833 total time=   0.8s\n",
      "[CV 1/5] END bootstrap=False, criterion=gini, n_estimators=25, n_jobs=1;, score=0.855 total time=   1.4s\n",
      "[CV 2/5] END bootstrap=False, criterion=gini, n_estimators=25, n_jobs=1;, score=0.843 total time=   1.5s\n",
      "[CV 3/5] END bootstrap=False, criterion=gini, n_estimators=25, n_jobs=1;, score=0.855 total time=   1.4s\n",
      "[CV 4/5] END bootstrap=False, criterion=gini, n_estimators=25, n_jobs=1;, score=0.866 total time=   1.5s\n",
      "[CV 5/5] END bootstrap=False, criterion=gini, n_estimators=25, n_jobs=1;, score=0.859 total time=   1.5s\n",
      "[CV 1/5] END bootstrap=False, criterion=entropy, n_estimators=25, n_jobs=1;, score=0.865 total time=   1.1s\n",
      "[CV 2/5] END bootstrap=False, criterion=entropy, n_estimators=25, n_jobs=1;, score=0.868 total time=   1.2s\n",
      "[CV 3/5] END bootstrap=False, criterion=entropy, n_estimators=25, n_jobs=1;, score=0.850 total time=   1.1s\n",
      "[CV 4/5] END bootstrap=False, criterion=entropy, n_estimators=25, n_jobs=1;, score=0.842 total time=   1.1s\n",
      "[CV 5/5] END bootstrap=False, criterion=entropy, n_estimators=25, n_jobs=1;, score=0.861 total time=   1.1s\n"
     ]
    },
    {
     "data": {
      "text/plain": [
       "Pipeline(steps=[('bow6',\n",
       "                 CountVectorizer(analyzer=<function get_tokens at 0x7fd085740e50>,\n",
       "                                 lowercase=False)),\n",
       "                ('tfidf6', TfidfTransformer()),\n",
       "                ('classifier6',\n",
       "                 GridSearchCV(estimator=RandomForestClassifier(),\n",
       "                              param_grid={'bootstrap': [True, False],\n",
       "                                          'criterion': ['gini', 'entropy'],\n",
       "                                          'n_estimators': [25], 'n_jobs': [1]},\n",
       "                              verbose=3))])"
      ]
     },
     "execution_count": 34,
     "metadata": {},
     "output_type": "execute_result"
    }
   ],
   "source": [
    "model_RF.fit(text_train, stars_train)\n",
    "\n",
    "model_RF_token.fit(text_train, stars_train)\n",
    "\n",
    "model_RF_token_norm.fit(text_train, stars_train)"
   ]
  },
  {
   "cell_type": "markdown",
   "metadata": {},
   "source": [
    "**Step 6** : Predict Values using Trained Models"
   ]
  },
  {
   "cell_type": "code",
   "execution_count": 35,
   "metadata": {},
   "outputs": [],
   "source": [
    "pred_NB = model_NB.predict(text_test)\n",
    "\n",
    "pred_NB_token = model_NB_token.predict(text_test)\n",
    "\n",
    "pred_NB_token_norm = model_NB_token_norm.predict(text_test)"
   ]
  },
  {
   "cell_type": "code",
   "execution_count": 36,
   "metadata": {},
   "outputs": [],
   "source": [
    "pred_RF = model_RF.predict(text_test)\n",
    "\n",
    "pred_RF_token = model_RF_token.predict(text_test)\n",
    "\n",
    "pred_RF_token_norm = model_RF_token_norm.predict(text_test)"
   ]
  },
  {
   "cell_type": "markdown",
   "metadata": {},
   "source": [
    "**Step 7** : Evaluation of Models"
   ]
  },
  {
   "cell_type": "code",
   "execution_count": 37,
   "metadata": {},
   "outputs": [
    {
     "name": "stdout",
     "output_type": "stream",
     "text": [
      "[[148  30]\n",
      " [ 36 808]]\n",
      "\n",
      "              precision    recall  f1-score   support\n",
      "\n",
      "           1       0.80      0.83      0.82       178\n",
      "           5       0.96      0.96      0.96       844\n",
      "\n",
      "    accuracy                           0.94      1022\n",
      "   macro avg       0.88      0.89      0.89      1022\n",
      "weighted avg       0.94      0.94      0.94      1022\n",
      "\n"
     ]
    }
   ],
   "source": [
    "# Model 1 : Multinomial Naive Bayes Classifier (without Tokenization and Normalization)\n",
    "\n",
    "print(confusion_matrix(pred_NB, stars_test))\n",
    "print()\n",
    "print(classification_report(pred_NB, stars_test))"
   ]
  },
  {
   "cell_type": "code",
   "execution_count": 38,
   "metadata": {},
   "outputs": [
    {
     "name": "stdout",
     "output_type": "stream",
     "text": [
      "[[130  24]\n",
      " [ 54 814]]\n",
      "\n",
      "              precision    recall  f1-score   support\n",
      "\n",
      "           1       0.71      0.84      0.77       154\n",
      "           5       0.97      0.94      0.95       868\n",
      "\n",
      "    accuracy                           0.92      1022\n",
      "   macro avg       0.84      0.89      0.86      1022\n",
      "weighted avg       0.93      0.92      0.93      1022\n",
      "\n"
     ]
    }
   ],
   "source": [
    "# Model 2 : Multinomial Naive Bayes Classifier with Tokenized Data (without Normalization)\n",
    "\n",
    "print(confusion_matrix(pred_NB_token, stars_test))\n",
    "print()\n",
    "print(classification_report(pred_NB_token, stars_test))"
   ]
  },
  {
   "cell_type": "code",
   "execution_count": 39,
   "metadata": {},
   "outputs": [
    {
     "name": "stdout",
     "output_type": "stream",
     "text": [
      "[[112  14]\n",
      " [ 72 824]]\n",
      "\n",
      "              precision    recall  f1-score   support\n",
      "\n",
      "           1       0.61      0.89      0.72       126\n",
      "           5       0.98      0.92      0.95       896\n",
      "\n",
      "    accuracy                           0.92      1022\n",
      "   macro avg       0.80      0.90      0.84      1022\n",
      "weighted avg       0.94      0.92      0.92      1022\n",
      "\n"
     ]
    }
   ],
   "source": [
    "# Model 3 : Multinomial Naive Bayes Classifier with Tokenized and Normalized Data\n",
    "\n",
    "print(confusion_matrix(pred_NB_token_norm, stars_test))\n",
    "print()\n",
    "print(classification_report(pred_NB_token_norm, stars_test))"
   ]
  },
  {
   "cell_type": "code",
   "execution_count": 40,
   "metadata": {},
   "outputs": [
    {
     "name": "stdout",
     "output_type": "stream",
     "text": [
      "[[ 38   4]\n",
      " [146 834]]\n",
      "\n",
      "              precision    recall  f1-score   support\n",
      "\n",
      "           1       0.21      0.90      0.34        42\n",
      "           5       1.00      0.85      0.92       980\n",
      "\n",
      "    accuracy                           0.85      1022\n",
      "   macro avg       0.60      0.88      0.63      1022\n",
      "weighted avg       0.96      0.85      0.89      1022\n",
      "\n"
     ]
    }
   ],
   "source": [
    "# Model 4 : Random Forest Classifier (without Tokenization and Normalization)\n",
    "\n",
    "print(confusion_matrix(pred_RF, stars_test))\n",
    "print()\n",
    "print(classification_report(pred_RF, stars_test))"
   ]
  },
  {
   "cell_type": "code",
   "execution_count": 41,
   "metadata": {},
   "outputs": [
    {
     "name": "stdout",
     "output_type": "stream",
     "text": [
      "[[ 64   7]\n",
      " [120 831]]\n",
      "\n",
      "              precision    recall  f1-score   support\n",
      "\n",
      "           1       0.35      0.90      0.50        71\n",
      "           5       0.99      0.87      0.93       951\n",
      "\n",
      "    accuracy                           0.88      1022\n",
      "   macro avg       0.67      0.89      0.72      1022\n",
      "weighted avg       0.95      0.88      0.90      1022\n",
      "\n"
     ]
    }
   ],
   "source": [
    "# Model 5 : Random Forest Classifier with Tokenized Data (without Normalization)\n",
    "\n",
    "print(confusion_matrix(pred_RF_token, stars_test))\n",
    "print()\n",
    "print(classification_report(pred_RF_token, stars_test))"
   ]
  },
  {
   "cell_type": "code",
   "execution_count": 42,
   "metadata": {},
   "outputs": [
    {
     "name": "stdout",
     "output_type": "stream",
     "text": [
      "[[ 50   2]\n",
      " [134 836]]\n",
      "\n",
      "              precision    recall  f1-score   support\n",
      "\n",
      "           1       0.27      0.96      0.42        52\n",
      "           5       1.00      0.86      0.92       970\n",
      "\n",
      "    accuracy                           0.87      1022\n",
      "   macro avg       0.63      0.91      0.67      1022\n",
      "weighted avg       0.96      0.87      0.90      1022\n",
      "\n"
     ]
    }
   ],
   "source": [
    "# Model 6 : Random Forest Classifier with Tokenized and Normalized Data\n",
    "\n",
    "print(confusion_matrix(pred_RF_token_norm, stars_test))\n",
    "print()\n",
    "print(classification_report(pred_RF_token_norm, stars_test))"
   ]
  },
  {
   "cell_type": "markdown",
   "metadata": {},
   "source": [
    "<big>**OBSERVATION** : Naive Bayes Classifier is more accurate than Random Forest Classifier for our Task</big>\n",
    "___\n",
    "\n",
    "<br>\n",
    "\n",
    "<big>**FINAL STEP** : Tweaking the NB Models to find the most accurate model</big>"
   ]
  },
  {
   "cell_type": "code",
   "execution_count": 43,
   "metadata": {},
   "outputs": [
    {
     "name": "stdout",
     "output_type": "stream",
     "text": [
      "[Pipeline] .............. (step 1 of 2) Processing bow1, total=   0.4s\n",
      "[Pipeline] ....... (step 2 of 2) Processing classifier1, total=   0.0s\n",
      "[[152  30]\n",
      " [ 32 808]]\n",
      "\n",
      "              precision    recall  f1-score   support\n",
      "\n",
      "           1       0.83      0.84      0.83       182\n",
      "           5       0.96      0.96      0.96       840\n",
      "\n",
      "    accuracy                           0.94      1022\n",
      "   macro avg       0.90      0.90      0.90      1022\n",
      "weighted avg       0.94      0.94      0.94      1022\n",
      "\n"
     ]
    }
   ],
   "source": [
    "# Model 1 : Multinomial Naive Bayes Classifier (without Tokenization and Normalization)\n",
    "\n",
    "workflow = [('bow1', CountVectorizer(lowercase=False)),\n",
    "            ('classifier1', MultinomialNB(alpha=0.2))]\n",
    "\n",
    "model_NB = Pipeline(workflow, verbose=True)\n",
    "\n",
    "model_NB.fit(text_train, stars_train)\n",
    "\n",
    "pred_NB = model_NB.predict(text_test)\n",
    "\n",
    "print(confusion_matrix(pred_NB, stars_test))\n",
    "print()\n",
    "print(classification_report(pred_NB, stars_test))"
   ]
  },
  {
   "cell_type": "code",
   "execution_count": 44,
   "metadata": {},
   "outputs": [
    {
     "name": "stdout",
     "output_type": "stream",
     "text": [
      "[Pipeline] .............. (step 1 of 2) Processing bow2, total=  45.2s\n",
      "[Pipeline] ....... (step 2 of 2) Processing classifier2, total=   0.0s\n",
      "[[146  20]\n",
      " [ 38 818]]\n",
      "\n",
      "              precision    recall  f1-score   support\n",
      "\n",
      "           1       0.79      0.88      0.83       166\n",
      "           5       0.98      0.96      0.97       856\n",
      "\n",
      "    accuracy                           0.94      1022\n",
      "   macro avg       0.88      0.92      0.90      1022\n",
      "weighted avg       0.95      0.94      0.94      1022\n",
      "\n"
     ]
    }
   ],
   "source": [
    "# Model 2 : Multinomial Naive Bayes Classifier with Tokenization (without Normalization)\n",
    "\n",
    "workflow = [('bow2', CountVectorizer(analyzer=get_tokens, lowercase=False)),\n",
    "            ('classifier2',MultinomialNB(alpha=0.33))]\n",
    "\n",
    "model_NB_token = Pipeline(workflow, verbose=True)\n",
    "\n",
    "model_NB_token.fit(text_train, stars_train)\n",
    "\n",
    "pred_NB_token = model_NB_token.predict(text_test)\n",
    "\n",
    "print(confusion_matrix(pred_NB_token, stars_test))\n",
    "print()\n",
    "print(classification_report(pred_NB_token, stars_test))"
   ]
  },
  {
   "cell_type": "code",
   "execution_count": 45,
   "metadata": {
    "scrolled": true
   },
   "outputs": [
    {
     "name": "stdout",
     "output_type": "stream",
     "text": [
      "[Pipeline] .............. (step 1 of 3) Processing bow3, total=  40.7s\n",
      "[Pipeline] ............ (step 2 of 3) Processing tfidf3, total=   0.0s\n",
      "[Pipeline] ....... (step 3 of 3) Processing classifier3, total=   0.0s\n",
      "[[114  14]\n",
      " [ 70 824]]\n",
      "\n",
      "              precision    recall  f1-score   support\n",
      "\n",
      "           1       0.62      0.89      0.73       128\n",
      "           5       0.98      0.92      0.95       894\n",
      "\n",
      "    accuracy                           0.92      1022\n",
      "   macro avg       0.80      0.91      0.84      1022\n",
      "weighted avg       0.94      0.92      0.92      1022\n",
      "\n"
     ]
    }
   ],
   "source": [
    "# Model 3 : Multinomial Naive Bayes Classifier with Tokenization and Normalization\n",
    "\n",
    "workflow = [('bow3', CountVectorizer(analyzer=get_tokens, lowercase=False)),\n",
    "            ('tfidf3', TfidfTransformer()),\n",
    "            ('classifier3', MultinomialNB(alpha=0.0115))]\n",
    "\n",
    "\n",
    "model_NB_token_norm = Pipeline(workflow, verbose=True)\n",
    "\n",
    "model_NB_token_norm.fit(text_train, stars_train)\n",
    "\n",
    "pred_NB_token_norm = model_NB_token_norm.predict(text_test)\n",
    "\n",
    "print(confusion_matrix(pred_NB_token_norm, stars_test))\n",
    "print()\n",
    "print(classification_report(pred_NB_token_norm, stars_test))"
   ]
  },
  {
   "cell_type": "markdown",
   "metadata": {},
   "source": [
    "## Result\n",
    "___\n",
    "\n",
    "After all the analysis, the best model for the task stands out to be **Multinomial Naive Bayes Classifier without Tokenization or Normalization** <code>model_NB</code>. Not only it delivers the **best precision, best recall and best f1-score**, it also **performs the fastest** due to absence of any overheads as compared to other models."
   ]
  },
  {
   "cell_type": "code",
   "execution_count": 46,
   "metadata": {},
   "outputs": [
    {
     "name": "stdout",
     "output_type": "stream",
     "text": [
      "[Pipeline] .............. (step 1 of 2) Processing bow1, total=   0.5s\n",
      "[Pipeline] ....... (step 2 of 2) Processing classifier1, total=   0.0s\n",
      "[[152  30]\n",
      " [ 32 808]]\n",
      "\n",
      "              precision    recall  f1-score   support\n",
      "\n",
      "           1       0.83      0.84      0.83       182\n",
      "           5       0.96      0.96      0.96       840\n",
      "\n",
      "    accuracy                           0.94      1022\n",
      "   macro avg       0.90      0.90      0.90      1022\n",
      "weighted avg       0.94      0.94      0.94      1022\n",
      "\n"
     ]
    }
   ],
   "source": [
    "# BEST MODEL : Multinomial Naive Bayes Classifier (without Tokenization and Normalization)\n",
    "\n",
    "workflow = [('bow1', CountVectorizer(lowercase=False)),\n",
    "            ('classifier1', MultinomialNB(alpha=0.2))]\n",
    "\n",
    "model_NB = Pipeline(workflow, verbose=True)\n",
    "\n",
    "model_NB.fit(text_train, stars_train)\n",
    "\n",
    "pred_NB = model_NB.predict(text_test)\n",
    "\n",
    "print(confusion_matrix(pred_NB, stars_test))\n",
    "print()\n",
    "print(classification_report(pred_NB, stars_test))"
   ]
  },
  {
   "cell_type": "markdown",
   "metadata": {},
   "source": [
    "## Thank You!\n",
    "\n",
    "### Ramandeep Singh : ramanchawla1290@gmail.com"
   ]
  }
 ],
 "metadata": {
  "kernelspec": {
   "display_name": "Python 3 (ipykernel)",
   "language": "python",
   "name": "python3"
  },
  "language_info": {
   "codemirror_mode": {
    "name": "ipython",
    "version": 3
   },
   "file_extension": ".py",
   "mimetype": "text/x-python",
   "name": "python",
   "nbconvert_exporter": "python",
   "pygments_lexer": "ipython3",
   "version": "3.8.10"
  }
 },
 "nbformat": 4,
 "nbformat_minor": 1
}
