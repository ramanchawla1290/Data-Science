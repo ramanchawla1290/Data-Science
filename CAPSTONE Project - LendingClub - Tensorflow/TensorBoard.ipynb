{
 "cells": [
  {
   "cell_type": "markdown",
   "id": "a1aa7e2a",
   "metadata": {},
   "source": [
    "# Tensorboard\n",
    "___\n",
    "\n",
    "Let's explore the built in data visualization capabilities that come with Tensorboard."
   ]
  },
  {
   "cell_type": "markdown",
   "id": "11900b2b",
   "metadata": {},
   "source": [
    "### Data"
   ]
  },
  {
   "cell_type": "code",
   "execution_count": 1,
   "id": "17513c04",
   "metadata": {},
   "outputs": [],
   "source": [
    "import numpy as np\n",
    "import pandas as pd"
   ]
  },
  {
   "cell_type": "code",
   "execution_count": 2,
   "id": "5846fe19",
   "metadata": {},
   "outputs": [
    {
     "data": {
      "text/html": [
       "<div>\n",
       "<style scoped>\n",
       "    .dataframe tbody tr th:only-of-type {\n",
       "        vertical-align: middle;\n",
       "    }\n",
       "\n",
       "    .dataframe tbody tr th {\n",
       "        vertical-align: top;\n",
       "    }\n",
       "\n",
       "    .dataframe thead th {\n",
       "        text-align: right;\n",
       "    }\n",
       "</style>\n",
       "<table border=\"1\" class=\"dataframe\">\n",
       "  <thead>\n",
       "    <tr style=\"text-align: right;\">\n",
       "      <th></th>\n",
       "      <th>mean radius</th>\n",
       "      <th>mean texture</th>\n",
       "      <th>mean perimeter</th>\n",
       "      <th>mean area</th>\n",
       "      <th>mean smoothness</th>\n",
       "      <th>mean compactness</th>\n",
       "      <th>mean concavity</th>\n",
       "      <th>mean concave points</th>\n",
       "      <th>mean symmetry</th>\n",
       "      <th>mean fractal dimension</th>\n",
       "      <th>...</th>\n",
       "      <th>worst texture</th>\n",
       "      <th>worst perimeter</th>\n",
       "      <th>worst area</th>\n",
       "      <th>worst smoothness</th>\n",
       "      <th>worst compactness</th>\n",
       "      <th>worst concavity</th>\n",
       "      <th>worst concave points</th>\n",
       "      <th>worst symmetry</th>\n",
       "      <th>worst fractal dimension</th>\n",
       "      <th>benign_0__mal_1</th>\n",
       "    </tr>\n",
       "  </thead>\n",
       "  <tbody>\n",
       "    <tr>\n",
       "      <th>0</th>\n",
       "      <td>17.99</td>\n",
       "      <td>10.38</td>\n",
       "      <td>122.80</td>\n",
       "      <td>1001.0</td>\n",
       "      <td>0.11840</td>\n",
       "      <td>0.27760</td>\n",
       "      <td>0.3001</td>\n",
       "      <td>0.14710</td>\n",
       "      <td>0.2419</td>\n",
       "      <td>0.07871</td>\n",
       "      <td>...</td>\n",
       "      <td>17.33</td>\n",
       "      <td>184.60</td>\n",
       "      <td>2019.0</td>\n",
       "      <td>0.1622</td>\n",
       "      <td>0.6656</td>\n",
       "      <td>0.7119</td>\n",
       "      <td>0.2654</td>\n",
       "      <td>0.4601</td>\n",
       "      <td>0.11890</td>\n",
       "      <td>0</td>\n",
       "    </tr>\n",
       "    <tr>\n",
       "      <th>1</th>\n",
       "      <td>20.57</td>\n",
       "      <td>17.77</td>\n",
       "      <td>132.90</td>\n",
       "      <td>1326.0</td>\n",
       "      <td>0.08474</td>\n",
       "      <td>0.07864</td>\n",
       "      <td>0.0869</td>\n",
       "      <td>0.07017</td>\n",
       "      <td>0.1812</td>\n",
       "      <td>0.05667</td>\n",
       "      <td>...</td>\n",
       "      <td>23.41</td>\n",
       "      <td>158.80</td>\n",
       "      <td>1956.0</td>\n",
       "      <td>0.1238</td>\n",
       "      <td>0.1866</td>\n",
       "      <td>0.2416</td>\n",
       "      <td>0.1860</td>\n",
       "      <td>0.2750</td>\n",
       "      <td>0.08902</td>\n",
       "      <td>0</td>\n",
       "    </tr>\n",
       "    <tr>\n",
       "      <th>2</th>\n",
       "      <td>19.69</td>\n",
       "      <td>21.25</td>\n",
       "      <td>130.00</td>\n",
       "      <td>1203.0</td>\n",
       "      <td>0.10960</td>\n",
       "      <td>0.15990</td>\n",
       "      <td>0.1974</td>\n",
       "      <td>0.12790</td>\n",
       "      <td>0.2069</td>\n",
       "      <td>0.05999</td>\n",
       "      <td>...</td>\n",
       "      <td>25.53</td>\n",
       "      <td>152.50</td>\n",
       "      <td>1709.0</td>\n",
       "      <td>0.1444</td>\n",
       "      <td>0.4245</td>\n",
       "      <td>0.4504</td>\n",
       "      <td>0.2430</td>\n",
       "      <td>0.3613</td>\n",
       "      <td>0.08758</td>\n",
       "      <td>0</td>\n",
       "    </tr>\n",
       "    <tr>\n",
       "      <th>3</th>\n",
       "      <td>11.42</td>\n",
       "      <td>20.38</td>\n",
       "      <td>77.58</td>\n",
       "      <td>386.1</td>\n",
       "      <td>0.14250</td>\n",
       "      <td>0.28390</td>\n",
       "      <td>0.2414</td>\n",
       "      <td>0.10520</td>\n",
       "      <td>0.2597</td>\n",
       "      <td>0.09744</td>\n",
       "      <td>...</td>\n",
       "      <td>26.50</td>\n",
       "      <td>98.87</td>\n",
       "      <td>567.7</td>\n",
       "      <td>0.2098</td>\n",
       "      <td>0.8663</td>\n",
       "      <td>0.6869</td>\n",
       "      <td>0.2575</td>\n",
       "      <td>0.6638</td>\n",
       "      <td>0.17300</td>\n",
       "      <td>0</td>\n",
       "    </tr>\n",
       "    <tr>\n",
       "      <th>4</th>\n",
       "      <td>20.29</td>\n",
       "      <td>14.34</td>\n",
       "      <td>135.10</td>\n",
       "      <td>1297.0</td>\n",
       "      <td>0.10030</td>\n",
       "      <td>0.13280</td>\n",
       "      <td>0.1980</td>\n",
       "      <td>0.10430</td>\n",
       "      <td>0.1809</td>\n",
       "      <td>0.05883</td>\n",
       "      <td>...</td>\n",
       "      <td>16.67</td>\n",
       "      <td>152.20</td>\n",
       "      <td>1575.0</td>\n",
       "      <td>0.1374</td>\n",
       "      <td>0.2050</td>\n",
       "      <td>0.4000</td>\n",
       "      <td>0.1625</td>\n",
       "      <td>0.2364</td>\n",
       "      <td>0.07678</td>\n",
       "      <td>0</td>\n",
       "    </tr>\n",
       "  </tbody>\n",
       "</table>\n",
       "<p>5 rows × 31 columns</p>\n",
       "</div>"
      ],
      "text/plain": [
       "   mean radius  mean texture  mean perimeter  mean area  mean smoothness  \\\n",
       "0        17.99         10.38          122.80     1001.0          0.11840   \n",
       "1        20.57         17.77          132.90     1326.0          0.08474   \n",
       "2        19.69         21.25          130.00     1203.0          0.10960   \n",
       "3        11.42         20.38           77.58      386.1          0.14250   \n",
       "4        20.29         14.34          135.10     1297.0          0.10030   \n",
       "\n",
       "   mean compactness  mean concavity  mean concave points  mean symmetry  \\\n",
       "0           0.27760          0.3001              0.14710         0.2419   \n",
       "1           0.07864          0.0869              0.07017         0.1812   \n",
       "2           0.15990          0.1974              0.12790         0.2069   \n",
       "3           0.28390          0.2414              0.10520         0.2597   \n",
       "4           0.13280          0.1980              0.10430         0.1809   \n",
       "\n",
       "   mean fractal dimension  ...  worst texture  worst perimeter  worst area  \\\n",
       "0                 0.07871  ...          17.33           184.60      2019.0   \n",
       "1                 0.05667  ...          23.41           158.80      1956.0   \n",
       "2                 0.05999  ...          25.53           152.50      1709.0   \n",
       "3                 0.09744  ...          26.50            98.87       567.7   \n",
       "4                 0.05883  ...          16.67           152.20      1575.0   \n",
       "\n",
       "   worst smoothness  worst compactness  worst concavity  worst concave points  \\\n",
       "0            0.1622             0.6656           0.7119                0.2654   \n",
       "1            0.1238             0.1866           0.2416                0.1860   \n",
       "2            0.1444             0.4245           0.4504                0.2430   \n",
       "3            0.2098             0.8663           0.6869                0.2575   \n",
       "4            0.1374             0.2050           0.4000                0.1625   \n",
       "\n",
       "   worst symmetry  worst fractal dimension  benign_0__mal_1  \n",
       "0          0.4601                  0.11890                0  \n",
       "1          0.2750                  0.08902                0  \n",
       "2          0.3613                  0.08758                0  \n",
       "3          0.6638                  0.17300                0  \n",
       "4          0.2364                  0.07678                0  \n",
       "\n",
       "[5 rows x 31 columns]"
      ]
     },
     "execution_count": 2,
     "metadata": {},
     "output_type": "execute_result"
    }
   ],
   "source": [
    "df = pd.read_csv('./files/cancer_classification.csv')\n",
    "\n",
    "df.head()"
   ]
  },
  {
   "cell_type": "markdown",
   "id": "b3e5116b",
   "metadata": {},
   "source": [
    "### Train-Test Split"
   ]
  },
  {
   "cell_type": "code",
   "execution_count": 3,
   "id": "6a837f40",
   "metadata": {},
   "outputs": [],
   "source": [
    "X = df.drop('benign_0__mal_1', axis=1).values\n",
    "\n",
    "y = df['benign_0__mal_1'].values"
   ]
  },
  {
   "cell_type": "code",
   "execution_count": 4,
   "id": "e306c390",
   "metadata": {},
   "outputs": [
    {
     "data": {
      "text/plain": [
       "(569, 30)"
      ]
     },
     "execution_count": 4,
     "metadata": {},
     "output_type": "execute_result"
    }
   ],
   "source": [
    "X.shape"
   ]
  },
  {
   "cell_type": "code",
   "execution_count": 5,
   "id": "f1ee2f5e",
   "metadata": {},
   "outputs": [],
   "source": [
    "from sklearn.model_selection import train_test_split"
   ]
  },
  {
   "cell_type": "code",
   "execution_count": 6,
   "id": "4e009ad6",
   "metadata": {},
   "outputs": [],
   "source": [
    "X_train, X_test, y_train, y_test = train_test_split(X, y, test_size=0.25, random_state=101)"
   ]
  },
  {
   "cell_type": "markdown",
   "id": "6034aa52",
   "metadata": {},
   "source": [
    "### Scaling the Data"
   ]
  },
  {
   "cell_type": "code",
   "execution_count": 7,
   "id": "ed702c3b",
   "metadata": {},
   "outputs": [],
   "source": [
    "from sklearn.preprocessing import MinMaxScaler, StandardScaler\n",
    "\n",
    "scaler_minmax = MinMaxScaler()\n",
    "\n",
    "scaler_std = StandardScaler()"
   ]
  },
  {
   "cell_type": "markdown",
   "id": "1e00164b",
   "metadata": {},
   "source": [
    "#### We will be using different Scalers in different Models"
   ]
  },
  {
   "cell_type": "code",
   "execution_count": 8,
   "id": "9306d361",
   "metadata": {},
   "outputs": [],
   "source": [
    "X_train_minmax = scaler_minmax.fit_transform(X_train)\n",
    "\n",
    "X_test_minmax = scaler_minmax.transform(X_test)\n",
    "\n",
    "# -------------------\n",
    "\n",
    "X_train_std = scaler_std.fit_transform(X_train)\n",
    "\n",
    "X_test_std = scaler_std.transform(X_test)"
   ]
  },
  {
   "cell_type": "markdown",
   "id": "091e5979",
   "metadata": {},
   "source": [
    "## Callbacks\n",
    "___"
   ]
  },
  {
   "cell_type": "markdown",
   "id": "637eda4e",
   "metadata": {},
   "source": [
    "### EarlyStopping Callback"
   ]
  },
  {
   "cell_type": "code",
   "execution_count": 10,
   "id": "79e8a734",
   "metadata": {},
   "outputs": [],
   "source": [
    "from tensorflow.keras.callbacks import EarlyStopping"
   ]
  },
  {
   "cell_type": "code",
   "execution_count": 11,
   "id": "ba11ab92",
   "metadata": {},
   "outputs": [],
   "source": [
    "early_stop = EarlyStopping(monitor=\"val_loss\", mode=\"min\", patience=25,\n",
    "                           restore_best_weights=True, verbose = 1)"
   ]
  },
  {
   "cell_type": "markdown",
   "id": "ee7db6cc",
   "metadata": {},
   "source": [
    "### TensorBoard Callback"
   ]
  },
  {
   "cell_type": "code",
   "execution_count": 12,
   "id": "d8fce729",
   "metadata": {},
   "outputs": [],
   "source": [
    "from tensorflow.keras.callbacks import TensorBoard    # TensorBoard"
   ]
  },
  {
   "cell_type": "markdown",
   "id": "42b9758d",
   "metadata": {},
   "source": [
    "TensorBoard is a visualization tool provided with TensorFlow.\n",
    "\n",
    "This callback logs events for TensorBoard, including:\n",
    "\n",
    "- Metrics summary plots\n",
    "- Training graph visualization\n",
    "- Activation histograms\n",
    "- Sampled profiling\n",
    "\n",
    "**ARGUMENTS**:\n",
    "\n",
    "- **log_dir**: the path of the directory where to save the log files to be parsed by TensorBoard.\n",
    "\n",
    "- **histogram_freq**: frequency (in epochs) at which to compute activation and weight histograms for the layers of the model. If set to 0, histograms won't be computed. Validation data (or split) must be specified for histogram visualizations.\n",
    "    \n",
    "- **write_graph**: whether to visualize the graph in TensorBoard. The log file can become quite large when write_graph is set to True.\n",
    "    \n",
    "- **write_images**: whether to write model weights to visualize as image in TensorBoard.\n",
    "\n",
    "- **update_freq**: `'batch'` or `'epoch'` or integer. When using `'batch'`, writes the losses and metrics to TensorBoard after each batch. The same applies for `'epoch'`. If using an integer, let's say `1000`, the callback will write the metrics and losses to TensorBoard every 1000 samples. Note that writing too frequently to TensorBoard can slow down your training.\n",
    "\n",
    "- **profile_batch**: Profile the batch to sample compute characteristics. By default, it will profile the second batch. Set profile_batch=0 to disable profiling. Must run in TensorFlow eager mode.\n",
    "\n",
    "- **embeddings_freq**: frequency (in epochs) at which embedding layers will be visualized. If set to 0, embeddings won't be visualized.\n",
    "\n",
    "___\n",
    "\n",
    "If TensorFlow is installed using pip, you can use the following command to launch TensorBoard from the command line:\n",
    "\n",
    "```sh\n",
    "tensorboard --logdir=path_to_your_logs\n",
    "```\n",
    "\n"
   ]
  },
  {
   "cell_type": "code",
   "execution_count": 13,
   "id": "82e41c1f",
   "metadata": {},
   "outputs": [
    {
     "data": {
      "text/plain": [
       "'/home/raman/MEGA/Study/Data Science/Deep Learning'"
      ]
     },
     "execution_count": 13,
     "metadata": {},
     "output_type": "execute_result"
    }
   ],
   "source": [
    "pwd"
   ]
  },
  {
   "cell_type": "markdown",
   "id": "d886c6e9",
   "metadata": {},
   "source": [
    "## Creating & Training Models"
   ]
  },
  {
   "cell_type": "code",
   "execution_count": 14,
   "id": "191d54c0",
   "metadata": {},
   "outputs": [],
   "source": [
    "from tensorflow.keras.models import Sequential\n",
    "\n",
    "from tensorflow.keras.layers import Dense, Dropout"
   ]
  },
  {
   "cell_type": "markdown",
   "id": "f4b6b499",
   "metadata": {},
   "source": [
    "### Model 1 : Adam optimizer + MinMaxScaler"
   ]
  },
  {
   "cell_type": "code",
   "execution_count": 16,
   "id": "e1224dcd",
   "metadata": {},
   "outputs": [
    {
     "name": "stderr",
     "output_type": "stream",
     "text": [
      "2021-10-28 12:17:33.571573: I tensorflow/core/profiler/lib/profiler_session.cc:131] Profiler session initializing.\n",
      "2021-10-28 12:17:33.571631: I tensorflow/core/profiler/lib/profiler_session.cc:146] Profiler session started.\n",
      "2021-10-28 12:17:33.572647: I tensorflow/core/profiler/lib/profiler_session.cc:164] Profiler session tear down.\n"
     ]
    }
   ],
   "source": [
    "log_directory = \"./logs/fit/\" + \"Model 1 - Adam MinMax\"\n",
    "\n",
    "board = TensorBoard(log_dir = log_directory,\n",
    "                    histogram_freq = 1,\n",
    "                    write_graph = True,\n",
    "                    write_images = False,\n",
    "                    update_freq = 'epoch',\n",
    "                    profile_batch = 2, # (DEFAULT)\n",
    "                    embeddings_freq = 1)"
   ]
  },
  {
   "cell_type": "code",
   "execution_count": 20,
   "id": "211febf4",
   "metadata": {},
   "outputs": [],
   "source": [
    "model_adam = Sequential()\n",
    "\n",
    "model_adam.add(Dense(30, activation=\"relu\"))\n",
    "model_adam.add(Dropout(0.25))\n",
    "\n",
    "model_adam.add(Dense(15, activation=\"relu\"))\n",
    "model_adam.add(Dropout(0.25))\n",
    "\n",
    "model_adam.add(Dense(1, activation=\"sigmoid\"))\n",
    "\n",
    "model_adam.compile(optimizer=\"adam\", loss='binary_crossentropy')"
   ]
  },
  {
   "cell_type": "code",
   "execution_count": 21,
   "id": "0115bcfa",
   "metadata": {},
   "outputs": [
    {
     "name": "stdout",
     "output_type": "stream",
     "text": [
      "Epoch 1/500\n",
      "14/14 [==============================] - 1s 16ms/step - loss: 0.6955 - val_loss: 0.6824\n"
     ]
    },
    {
     "name": "stderr",
     "output_type": "stream",
     "text": [
      "2021-10-28 12:18:08.099175: I tensorflow/core/profiler/lib/profiler_session.cc:131] Profiler session initializing.\n",
      "2021-10-28 12:18:08.099227: I tensorflow/core/profiler/lib/profiler_session.cc:146] Profiler session started.\n",
      "2021-10-28 12:18:08.135462: I tensorflow/core/profiler/lib/profiler_session.cc:66] Profiler session collecting data.\n",
      "2021-10-28 12:18:08.136417: I tensorflow/core/profiler/lib/profiler_session.cc:164] Profiler session tear down.\n",
      "2021-10-28 12:18:08.137923: I tensorflow/core/profiler/rpc/client/save_profile.cc:136] Creating directory: ./logs/fit/Model 1 - Adam MinMax/train/plugins/profile/2021_10_28_12_18_08\n",
      "\n",
      "2021-10-28 12:18:08.138730: I tensorflow/core/profiler/rpc/client/save_profile.cc:142] Dumped gzipped tool data for trace.json.gz to ./logs/fit/Model 1 - Adam MinMax/train/plugins/profile/2021_10_28_12_18_08/raman-HP-ENVY-x360.trace.json.gz\n",
      "2021-10-28 12:18:08.140113: I tensorflow/core/profiler/rpc/client/save_profile.cc:136] Creating directory: ./logs/fit/Model 1 - Adam MinMax/train/plugins/profile/2021_10_28_12_18_08\n",
      "\n",
      "2021-10-28 12:18:08.140256: I tensorflow/core/profiler/rpc/client/save_profile.cc:142] Dumped gzipped tool data for memory_profile.json.gz to ./logs/fit/Model 1 - Adam MinMax/train/plugins/profile/2021_10_28_12_18_08/raman-HP-ENVY-x360.memory_profile.json.gz\n",
      "2021-10-28 12:18:08.140548: I tensorflow/core/profiler/rpc/client/capture_profile.cc:251] Creating directory: ./logs/fit/Model 1 - Adam MinMax/train/plugins/profile/2021_10_28_12_18_08\n",
      "Dumped tool data for xplane.pb to ./logs/fit/Model 1 - Adam MinMax/train/plugins/profile/2021_10_28_12_18_08/raman-HP-ENVY-x360.xplane.pb\n",
      "Dumped tool data for overview_page.pb to ./logs/fit/Model 1 - Adam MinMax/train/plugins/profile/2021_10_28_12_18_08/raman-HP-ENVY-x360.overview_page.pb\n",
      "Dumped tool data for input_pipeline.pb to ./logs/fit/Model 1 - Adam MinMax/train/plugins/profile/2021_10_28_12_18_08/raman-HP-ENVY-x360.input_pipeline.pb\n",
      "Dumped tool data for tensorflow_stats.pb to ./logs/fit/Model 1 - Adam MinMax/train/plugins/profile/2021_10_28_12_18_08/raman-HP-ENVY-x360.tensorflow_stats.pb\n",
      "Dumped tool data for kernel_stats.pb to ./logs/fit/Model 1 - Adam MinMax/train/plugins/profile/2021_10_28_12_18_08/raman-HP-ENVY-x360.kernel_stats.pb\n",
      "\n"
     ]
    },
    {
     "name": "stdout",
     "output_type": "stream",
     "text": [
      "Epoch 2/500\n",
      "14/14 [==============================] - 0s 5ms/step - loss: 0.6707 - val_loss: 0.6657\n",
      "Epoch 3/500\n",
      "14/14 [==============================] - 0s 10ms/step - loss: 0.6631 - val_loss: 0.6449\n",
      "Epoch 4/500\n",
      "14/14 [==============================] - 0s 6ms/step - loss: 0.6345 - val_loss: 0.6163\n",
      "Epoch 5/500\n",
      "14/14 [==============================] - 0s 5ms/step - loss: 0.6035 - val_loss: 0.5770\n",
      "Epoch 6/500\n",
      "14/14 [==============================] - 0s 4ms/step - loss: 0.5731 - val_loss: 0.5306\n",
      "Epoch 7/500\n",
      "14/14 [==============================] - 0s 3ms/step - loss: 0.5141 - val_loss: 0.4784\n",
      "Epoch 8/500\n",
      "14/14 [==============================] - 0s 4ms/step - loss: 0.4723 - val_loss: 0.4268\n",
      "Epoch 9/500\n",
      "14/14 [==============================] - 0s 4ms/step - loss: 0.4195 - val_loss: 0.3775\n",
      "Epoch 10/500\n",
      "14/14 [==============================] - 0s 4ms/step - loss: 0.4008 - val_loss: 0.3369\n",
      "Epoch 11/500\n",
      "14/14 [==============================] - 0s 4ms/step - loss: 0.3766 - val_loss: 0.3080\n",
      "Epoch 12/500\n",
      "14/14 [==============================] - 0s 4ms/step - loss: 0.3369 - val_loss: 0.2773\n",
      "Epoch 13/500\n",
      "14/14 [==============================] - 0s 4ms/step - loss: 0.3184 - val_loss: 0.2535\n",
      "Epoch 14/500\n",
      "14/14 [==============================] - 0s 4ms/step - loss: 0.2878 - val_loss: 0.2309\n",
      "Epoch 15/500\n",
      "14/14 [==============================] - 0s 5ms/step - loss: 0.3014 - val_loss: 0.2191\n",
      "Epoch 16/500\n",
      "14/14 [==============================] - 0s 4ms/step - loss: 0.2645 - val_loss: 0.2055\n",
      "Epoch 17/500\n",
      "14/14 [==============================] - 0s 4ms/step - loss: 0.2661 - val_loss: 0.1971\n",
      "Epoch 18/500\n",
      "14/14 [==============================] - 0s 5ms/step - loss: 0.2467 - val_loss: 0.1828\n",
      "Epoch 19/500\n",
      "14/14 [==============================] - 0s 5ms/step - loss: 0.2347 - val_loss: 0.1752\n",
      "Epoch 20/500\n",
      "14/14 [==============================] - 0s 5ms/step - loss: 0.2331 - val_loss: 0.1762\n",
      "Epoch 21/500\n",
      "14/14 [==============================] - 0s 4ms/step - loss: 0.2188 - val_loss: 0.1596\n",
      "Epoch 22/500\n",
      "14/14 [==============================] - 0s 5ms/step - loss: 0.2127 - val_loss: 0.1592\n",
      "Epoch 23/500\n",
      "14/14 [==============================] - 0s 4ms/step - loss: 0.1957 - val_loss: 0.1468\n",
      "Epoch 24/500\n",
      "14/14 [==============================] - 0s 4ms/step - loss: 0.2131 - val_loss: 0.1469\n",
      "Epoch 25/500\n",
      "14/14 [==============================] - 0s 4ms/step - loss: 0.1915 - val_loss: 0.1472\n",
      "Epoch 26/500\n",
      "14/14 [==============================] - 0s 4ms/step - loss: 0.1843 - val_loss: 0.1360\n",
      "Epoch 27/500\n",
      "14/14 [==============================] - 0s 4ms/step - loss: 0.1713 - val_loss: 0.1356\n",
      "Epoch 28/500\n",
      "14/14 [==============================] - 0s 5ms/step - loss: 0.1717 - val_loss: 0.1278\n",
      "Epoch 29/500\n",
      "14/14 [==============================] - 0s 4ms/step - loss: 0.1764 - val_loss: 0.1224\n",
      "Epoch 30/500\n",
      "14/14 [==============================] - 0s 3ms/step - loss: 0.1709 - val_loss: 0.1227\n",
      "Epoch 31/500\n",
      "14/14 [==============================] - 0s 4ms/step - loss: 0.1603 - val_loss: 0.1239\n",
      "Epoch 32/500\n",
      "14/14 [==============================] - 0s 4ms/step - loss: 0.1595 - val_loss: 0.1145\n",
      "Epoch 33/500\n",
      "14/14 [==============================] - 0s 5ms/step - loss: 0.1596 - val_loss: 0.1256\n",
      "Epoch 34/500\n",
      "14/14 [==============================] - 0s 3ms/step - loss: 0.1412 - val_loss: 0.1110\n",
      "Epoch 35/500\n",
      "14/14 [==============================] - 0s 5ms/step - loss: 0.1416 - val_loss: 0.1181\n",
      "Epoch 36/500\n",
      "14/14 [==============================] - 0s 4ms/step - loss: 0.1525 - val_loss: 0.1141\n",
      "Epoch 37/500\n",
      "14/14 [==============================] - 0s 4ms/step - loss: 0.1310 - val_loss: 0.1092\n",
      "Epoch 38/500\n",
      "14/14 [==============================] - 0s 4ms/step - loss: 0.1395 - val_loss: 0.1082\n",
      "Epoch 39/500\n",
      "14/14 [==============================] - 0s 6ms/step - loss: 0.1342 - val_loss: 0.1057\n",
      "Epoch 40/500\n",
      "14/14 [==============================] - 0s 4ms/step - loss: 0.1224 - val_loss: 0.1030\n",
      "Epoch 41/500\n",
      "14/14 [==============================] - 0s 4ms/step - loss: 0.1179 - val_loss: 0.1120\n",
      "Epoch 42/500\n",
      "14/14 [==============================] - 0s 4ms/step - loss: 0.1241 - val_loss: 0.1024\n",
      "Epoch 43/500\n",
      "14/14 [==============================] - 0s 5ms/step - loss: 0.1255 - val_loss: 0.1055\n",
      "Epoch 44/500\n",
      "14/14 [==============================] - 0s 4ms/step - loss: 0.1037 - val_loss: 0.0961\n",
      "Epoch 45/500\n",
      "14/14 [==============================] - 0s 5ms/step - loss: 0.1161 - val_loss: 0.0997\n",
      "Epoch 46/500\n",
      "14/14 [==============================] - 0s 4ms/step - loss: 0.1158 - val_loss: 0.1007\n",
      "Epoch 47/500\n",
      "14/14 [==============================] - 0s 4ms/step - loss: 0.1045 - val_loss: 0.0977\n",
      "Epoch 48/500\n",
      "14/14 [==============================] - 0s 5ms/step - loss: 0.1263 - val_loss: 0.0972\n",
      "Epoch 49/500\n",
      "14/14 [==============================] - 0s 4ms/step - loss: 0.1037 - val_loss: 0.1067\n",
      "Epoch 50/500\n",
      "14/14 [==============================] - 0s 4ms/step - loss: 0.1084 - val_loss: 0.0957\n",
      "Epoch 51/500\n",
      "14/14 [==============================] - 0s 5ms/step - loss: 0.0992 - val_loss: 0.1003\n",
      "Epoch 52/500\n",
      "14/14 [==============================] - 0s 4ms/step - loss: 0.0940 - val_loss: 0.0969\n",
      "Epoch 53/500\n",
      "14/14 [==============================] - 0s 4ms/step - loss: 0.1027 - val_loss: 0.0953\n",
      "Epoch 54/500\n",
      "14/14 [==============================] - 0s 4ms/step - loss: 0.1161 - val_loss: 0.0937\n",
      "Epoch 55/500\n",
      "14/14 [==============================] - 0s 4ms/step - loss: 0.0984 - val_loss: 0.1071\n",
      "Epoch 56/500\n",
      "14/14 [==============================] - 0s 4ms/step - loss: 0.1004 - val_loss: 0.0916\n",
      "Epoch 57/500\n",
      "14/14 [==============================] - 0s 6ms/step - loss: 0.0929 - val_loss: 0.1060\n",
      "Epoch 58/500\n",
      "14/14 [==============================] - 0s 4ms/step - loss: 0.1083 - val_loss: 0.0963\n",
      "Epoch 59/500\n",
      "14/14 [==============================] - 0s 5ms/step - loss: 0.0905 - val_loss: 0.0939\n",
      "Epoch 60/500\n",
      "14/14 [==============================] - 0s 5ms/step - loss: 0.0959 - val_loss: 0.1092\n",
      "Epoch 61/500\n",
      "14/14 [==============================] - 0s 5ms/step - loss: 0.0980 - val_loss: 0.0947\n",
      "Epoch 62/500\n",
      "14/14 [==============================] - 0s 4ms/step - loss: 0.0979 - val_loss: 0.0955\n",
      "Epoch 63/500\n",
      "14/14 [==============================] - 0s 4ms/step - loss: 0.0957 - val_loss: 0.1028\n",
      "Epoch 64/500\n",
      "14/14 [==============================] - 0s 5ms/step - loss: 0.0784 - val_loss: 0.0945\n",
      "Epoch 65/500\n",
      "14/14 [==============================] - 0s 4ms/step - loss: 0.0701 - val_loss: 0.0980\n",
      "Epoch 66/500\n",
      "14/14 [==============================] - 0s 5ms/step - loss: 0.0833 - val_loss: 0.0942\n",
      "Epoch 67/500\n",
      "14/14 [==============================] - 0s 5ms/step - loss: 0.0774 - val_loss: 0.0942\n",
      "Epoch 68/500\n",
      "14/14 [==============================] - 0s 4ms/step - loss: 0.0786 - val_loss: 0.0937\n",
      "Epoch 69/500\n",
      "14/14 [==============================] - 0s 5ms/step - loss: 0.0901 - val_loss: 0.0924\n",
      "Epoch 70/500\n",
      "14/14 [==============================] - 0s 4ms/step - loss: 0.0920 - val_loss: 0.1013\n",
      "Epoch 71/500\n",
      "14/14 [==============================] - 0s 4ms/step - loss: 0.0785 - val_loss: 0.0935\n",
      "Epoch 72/500\n",
      "14/14 [==============================] - 0s 4ms/step - loss: 0.0770 - val_loss: 0.1037\n",
      "Epoch 73/500\n",
      "14/14 [==============================] - 0s 5ms/step - loss: 0.0898 - val_loss: 0.0895\n",
      "Epoch 74/500\n",
      "14/14 [==============================] - 0s 4ms/step - loss: 0.0950 - val_loss: 0.0924\n",
      "Epoch 75/500\n",
      "14/14 [==============================] - 0s 5ms/step - loss: 0.0850 - val_loss: 0.0970\n",
      "Epoch 76/500\n",
      "14/14 [==============================] - 0s 4ms/step - loss: 0.0799 - val_loss: 0.0938\n",
      "Epoch 77/500\n",
      "14/14 [==============================] - 0s 5ms/step - loss: 0.0832 - val_loss: 0.0992\n",
      "Epoch 78/500\n",
      "14/14 [==============================] - 0s 5ms/step - loss: 0.0743 - val_loss: 0.0877\n",
      "Epoch 79/500\n",
      "14/14 [==============================] - 0s 4ms/step - loss: 0.0780 - val_loss: 0.1097\n",
      "Epoch 80/500\n",
      "14/14 [==============================] - 0s 5ms/step - loss: 0.0679 - val_loss: 0.0943\n",
      "Epoch 81/500\n",
      "14/14 [==============================] - 0s 5ms/step - loss: 0.0779 - val_loss: 0.0930\n",
      "Epoch 82/500\n",
      "14/14 [==============================] - 0s 5ms/step - loss: 0.0754 - val_loss: 0.1015\n",
      "Epoch 83/500\n",
      "14/14 [==============================] - 0s 4ms/step - loss: 0.0764 - val_loss: 0.1062\n"
     ]
    },
    {
     "name": "stdout",
     "output_type": "stream",
     "text": [
      "Epoch 84/500\n",
      "14/14 [==============================] - 0s 6ms/step - loss: 0.0711 - val_loss: 0.1012\n",
      "Epoch 85/500\n",
      "14/14 [==============================] - 0s 4ms/step - loss: 0.0742 - val_loss: 0.0920\n",
      "Epoch 86/500\n",
      "14/14 [==============================] - 0s 4ms/step - loss: 0.0699 - val_loss: 0.0946\n",
      "Epoch 87/500\n",
      "14/14 [==============================] - 0s 4ms/step - loss: 0.0817 - val_loss: 0.0952\n",
      "Epoch 88/500\n",
      "14/14 [==============================] - 0s 4ms/step - loss: 0.0761 - val_loss: 0.0916\n",
      "Epoch 89/500\n",
      "14/14 [==============================] - 0s 4ms/step - loss: 0.0702 - val_loss: 0.0918\n",
      "Epoch 90/500\n",
      "14/14 [==============================] - 0s 4ms/step - loss: 0.0865 - val_loss: 0.1097\n",
      "Epoch 91/500\n",
      "14/14 [==============================] - 0s 4ms/step - loss: 0.0851 - val_loss: 0.0938\n",
      "Epoch 92/500\n",
      "14/14 [==============================] - 0s 4ms/step - loss: 0.0899 - val_loss: 0.0942\n",
      "Epoch 93/500\n",
      "14/14 [==============================] - 0s 4ms/step - loss: 0.0818 - val_loss: 0.0906\n",
      "Epoch 94/500\n",
      "14/14 [==============================] - 0s 5ms/step - loss: 0.0749 - val_loss: 0.0929\n",
      "Epoch 95/500\n",
      "14/14 [==============================] - 0s 4ms/step - loss: 0.0602 - val_loss: 0.0910\n",
      "Epoch 96/500\n",
      "14/14 [==============================] - 0s 4ms/step - loss: 0.0634 - val_loss: 0.0889\n",
      "Epoch 97/500\n",
      "14/14 [==============================] - ETA: 0s - loss: 0.090 - 0s 4ms/step - loss: 0.0707 - val_loss: 0.0966\n",
      "Epoch 98/500\n",
      "14/14 [==============================] - 0s 4ms/step - loss: 0.0739 - val_loss: 0.0930\n",
      "Epoch 99/500\n",
      "14/14 [==============================] - 0s 4ms/step - loss: 0.0818 - val_loss: 0.0926\n",
      "Epoch 100/500\n",
      "14/14 [==============================] - 0s 4ms/step - loss: 0.0654 - val_loss: 0.0975\n",
      "Epoch 101/500\n",
      "14/14 [==============================] - 0s 4ms/step - loss: 0.0632 - val_loss: 0.1073\n",
      "Epoch 102/500\n",
      "14/14 [==============================] - 0s 4ms/step - loss: 0.0768 - val_loss: 0.1122\n",
      "Epoch 103/500\n",
      "14/14 [==============================] - 0s 4ms/step - loss: 0.0673 - val_loss: 0.0968\n",
      "Restoring model weights from the end of the best epoch.\n",
      "Epoch 00103: early stopping\n"
     ]
    },
    {
     "data": {
      "text/plain": [
       "<keras.callbacks.History at 0x7fc6c86b5fd0>"
      ]
     },
     "execution_count": 21,
     "metadata": {},
     "output_type": "execute_result"
    }
   ],
   "source": [
    "model_adam.fit(X_train_minmax, y_train, epochs=500,\n",
    "               validation_data=(X_test_minmax, y_test),\n",
    "               callbacks=[early_stop, board])"
   ]
  },
  {
   "cell_type": "code",
   "execution_count": 22,
   "id": "9790b1c3",
   "metadata": {},
   "outputs": [
    {
     "name": "stdout",
     "output_type": "stream",
     "text": [
      "./logs/fit/Model 1 - Adam MinMax\n"
     ]
    }
   ],
   "source": [
    "print(log_directory)"
   ]
  },
  {
   "cell_type": "markdown",
   "id": "6d760101",
   "metadata": {},
   "source": [
    "### Model 2 : Adam optimizer + StandardScaler"
   ]
  },
  {
   "cell_type": "code",
   "execution_count": 23,
   "id": "47aff3f3",
   "metadata": {},
   "outputs": [
    {
     "name": "stderr",
     "output_type": "stream",
     "text": [
      "2021-10-28 12:18:39.551740: I tensorflow/core/profiler/lib/profiler_session.cc:131] Profiler session initializing.\n",
      "2021-10-28 12:18:39.551811: I tensorflow/core/profiler/lib/profiler_session.cc:146] Profiler session started.\n",
      "2021-10-28 12:18:39.552365: I tensorflow/core/profiler/lib/profiler_session.cc:164] Profiler session tear down.\n"
     ]
    }
   ],
   "source": [
    "log_directory = \"./logs/fit/\" + \"Model 2 - Adam Std\"\n",
    "\n",
    "board = TensorBoard(log_dir = log_directory,\n",
    "                    histogram_freq = 1,\n",
    "                    write_graph = True,\n",
    "                    write_images = False,\n",
    "                    update_freq = 'epoch',\n",
    "                    profile_batch = 2, # (DEFAULT)\n",
    "                    embeddings_freq = 1)"
   ]
  },
  {
   "cell_type": "code",
   "execution_count": 24,
   "id": "3d1ce64e",
   "metadata": {},
   "outputs": [],
   "source": [
    "model_adam = Sequential()\n",
    "\n",
    "model_adam.add(Dense(30, activation=\"relu\"))\n",
    "model_adam.add(Dropout(0.25))\n",
    "\n",
    "model_adam.add(Dense(15, activation=\"relu\"))\n",
    "model_adam.add(Dropout(0.25))\n",
    "\n",
    "model_adam.add(Dense(1, activation=\"sigmoid\"))\n",
    "\n",
    "model_adam.compile(optimizer=\"adam\", loss='binary_crossentropy')"
   ]
  },
  {
   "cell_type": "code",
   "execution_count": 25,
   "id": "0ce2dbdf",
   "metadata": {},
   "outputs": [
    {
     "name": "stdout",
     "output_type": "stream",
     "text": [
      "Epoch 1/500\n",
      "14/14 [==============================] - 1s 16ms/step - loss: 0.8357 - val_loss: 0.6460\n"
     ]
    },
    {
     "name": "stderr",
     "output_type": "stream",
     "text": [
      "2021-10-28 12:18:56.959597: I tensorflow/core/profiler/lib/profiler_session.cc:131] Profiler session initializing.\n",
      "2021-10-28 12:18:56.959777: I tensorflow/core/profiler/lib/profiler_session.cc:146] Profiler session started.\n",
      "2021-10-28 12:18:57.003641: I tensorflow/core/profiler/lib/profiler_session.cc:66] Profiler session collecting data.\n",
      "2021-10-28 12:18:57.004530: I tensorflow/core/profiler/lib/profiler_session.cc:164] Profiler session tear down.\n",
      "2021-10-28 12:18:57.005994: I tensorflow/core/profiler/rpc/client/save_profile.cc:136] Creating directory: ./logs/fit/Model 2 - Adam Std/train/plugins/profile/2021_10_28_12_18_57\n",
      "\n",
      "2021-10-28 12:18:57.006817: I tensorflow/core/profiler/rpc/client/save_profile.cc:142] Dumped gzipped tool data for trace.json.gz to ./logs/fit/Model 2 - Adam Std/train/plugins/profile/2021_10_28_12_18_57/raman-HP-ENVY-x360.trace.json.gz\n",
      "2021-10-28 12:18:57.008143: I tensorflow/core/profiler/rpc/client/save_profile.cc:136] Creating directory: ./logs/fit/Model 2 - Adam Std/train/plugins/profile/2021_10_28_12_18_57\n",
      "\n",
      "2021-10-28 12:18:57.008262: I tensorflow/core/profiler/rpc/client/save_profile.cc:142] Dumped gzipped tool data for memory_profile.json.gz to ./logs/fit/Model 2 - Adam Std/train/plugins/profile/2021_10_28_12_18_57/raman-HP-ENVY-x360.memory_profile.json.gz\n",
      "2021-10-28 12:18:57.008534: I tensorflow/core/profiler/rpc/client/capture_profile.cc:251] Creating directory: ./logs/fit/Model 2 - Adam Std/train/plugins/profile/2021_10_28_12_18_57\n",
      "Dumped tool data for xplane.pb to ./logs/fit/Model 2 - Adam Std/train/plugins/profile/2021_10_28_12_18_57/raman-HP-ENVY-x360.xplane.pb\n",
      "Dumped tool data for overview_page.pb to ./logs/fit/Model 2 - Adam Std/train/plugins/profile/2021_10_28_12_18_57/raman-HP-ENVY-x360.overview_page.pb\n",
      "Dumped tool data for input_pipeline.pb to ./logs/fit/Model 2 - Adam Std/train/plugins/profile/2021_10_28_12_18_57/raman-HP-ENVY-x360.input_pipeline.pb\n",
      "Dumped tool data for tensorflow_stats.pb to ./logs/fit/Model 2 - Adam Std/train/plugins/profile/2021_10_28_12_18_57/raman-HP-ENVY-x360.tensorflow_stats.pb\n",
      "Dumped tool data for kernel_stats.pb to ./logs/fit/Model 2 - Adam Std/train/plugins/profile/2021_10_28_12_18_57/raman-HP-ENVY-x360.kernel_stats.pb\n",
      "\n"
     ]
    },
    {
     "name": "stdout",
     "output_type": "stream",
     "text": [
      "Epoch 2/500\n",
      "14/14 [==============================] - 0s 4ms/step - loss: 0.5878 - val_loss: 0.4652\n",
      "Epoch 3/500\n",
      "14/14 [==============================] - 0s 5ms/step - loss: 0.4502 - val_loss: 0.3757\n",
      "Epoch 4/500\n",
      "14/14 [==============================] - 0s 5ms/step - loss: 0.3867 - val_loss: 0.3166\n",
      "Epoch 5/500\n",
      "14/14 [==============================] - 0s 5ms/step - loss: 0.3386 - val_loss: 0.2721\n",
      "Epoch 6/500\n",
      "14/14 [==============================] - 0s 4ms/step - loss: 0.2895 - val_loss: 0.2383\n",
      "Epoch 7/500\n",
      "14/14 [==============================] - 0s 5ms/step - loss: 0.2959 - val_loss: 0.2097\n",
      "Epoch 8/500\n",
      "14/14 [==============================] - 0s 5ms/step - loss: 0.2337 - val_loss: 0.1857\n",
      "Epoch 9/500\n",
      "14/14 [==============================] - 0s 6ms/step - loss: 0.2266 - val_loss: 0.1654\n",
      "Epoch 10/500\n",
      "14/14 [==============================] - 0s 4ms/step - loss: 0.2043 - val_loss: 0.1493\n",
      "Epoch 11/500\n",
      "14/14 [==============================] - 0s 4ms/step - loss: 0.1902 - val_loss: 0.1357\n",
      "Epoch 12/500\n",
      "14/14 [==============================] - 0s 5ms/step - loss: 0.1838 - val_loss: 0.1276\n",
      "Epoch 13/500\n",
      "14/14 [==============================] - 0s 4ms/step - loss: 0.1616 - val_loss: 0.1199\n",
      "Epoch 14/500\n",
      "14/14 [==============================] - 0s 5ms/step - loss: 0.1690 - val_loss: 0.1139\n",
      "Epoch 15/500\n",
      "14/14 [==============================] - 0s 4ms/step - loss: 0.1448 - val_loss: 0.1091\n",
      "Epoch 16/500\n",
      "14/14 [==============================] - 0s 4ms/step - loss: 0.1464 - val_loss: 0.1045\n",
      "Epoch 17/500\n",
      "14/14 [==============================] - 0s 4ms/step - loss: 0.1366 - val_loss: 0.1004\n",
      "Epoch 18/500\n",
      "14/14 [==============================] - 0s 4ms/step - loss: 0.1023 - val_loss: 0.0961\n",
      "Epoch 19/500\n",
      "14/14 [==============================] - 0s 5ms/step - loss: 0.1247 - val_loss: 0.0922\n",
      "Epoch 20/500\n",
      "14/14 [==============================] - 0s 17ms/step - loss: 0.1187 - val_loss: 0.0883\n",
      "Epoch 21/500\n",
      "14/14 [==============================] - 0s 16ms/step - loss: 0.1182 - val_loss: 0.0856\n",
      "Epoch 22/500\n",
      "14/14 [==============================] - 0s 5ms/step - loss: 0.1103 - val_loss: 0.0865\n",
      "Epoch 23/500\n",
      "14/14 [==============================] - 0s 5ms/step - loss: 0.0954 - val_loss: 0.0856\n",
      "Epoch 24/500\n",
      "14/14 [==============================] - 0s 4ms/step - loss: 0.0931 - val_loss: 0.0826\n",
      "Epoch 25/500\n",
      "14/14 [==============================] - 0s 6ms/step - loss: 0.0891 - val_loss: 0.0796\n",
      "Epoch 26/500\n",
      "14/14 [==============================] - 0s 15ms/step - loss: 0.1028 - val_loss: 0.0766\n",
      "Epoch 27/500\n",
      "14/14 [==============================] - 0s 5ms/step - loss: 0.0834 - val_loss: 0.0753\n",
      "Epoch 28/500\n",
      "14/14 [==============================] - 0s 3ms/step - loss: 0.0785 - val_loss: 0.0747\n",
      "Epoch 29/500\n",
      "14/14 [==============================] - 0s 14ms/step - loss: 0.0721 - val_loss: 0.0733\n",
      "Epoch 30/500\n",
      "14/14 [==============================] - 0s 5ms/step - loss: 0.0774 - val_loss: 0.0734\n",
      "Epoch 31/500\n",
      "14/14 [==============================] - 0s 5ms/step - loss: 0.0790 - val_loss: 0.0751\n",
      "Epoch 32/500\n",
      "14/14 [==============================] - 0s 5ms/step - loss: 0.0768 - val_loss: 0.0772\n",
      "Epoch 33/500\n",
      "14/14 [==============================] - 0s 5ms/step - loss: 0.0658 - val_loss: 0.0816\n",
      "Epoch 34/500\n",
      "14/14 [==============================] - 0s 4ms/step - loss: 0.0697 - val_loss: 0.0819\n",
      "Epoch 35/500\n",
      "14/14 [==============================] - 0s 5ms/step - loss: 0.0671 - val_loss: 0.0827\n",
      "Epoch 36/500\n",
      "14/14 [==============================] - 0s 5ms/step - loss: 0.0573 - val_loss: 0.0828\n",
      "Epoch 37/500\n",
      "14/14 [==============================] - 0s 6ms/step - loss: 0.0694 - val_loss: 0.0838\n",
      "Epoch 38/500\n",
      "14/14 [==============================] - 0s 17ms/step - loss: 0.0654 - val_loss: 0.0824\n",
      "Epoch 39/500\n",
      "14/14 [==============================] - 0s 4ms/step - loss: 0.0583 - val_loss: 0.0847\n",
      "Epoch 40/500\n",
      "14/14 [==============================] - 0s 18ms/step - loss: 0.0868 - val_loss: 0.0831\n",
      "Epoch 41/500\n",
      "14/14 [==============================] - 0s 6ms/step - loss: 0.0633 - val_loss: 0.0817\n",
      "Epoch 42/500\n",
      "14/14 [==============================] - 0s 4ms/step - loss: 0.0512 - val_loss: 0.0816\n",
      "Epoch 43/500\n",
      "14/14 [==============================] - 0s 4ms/step - loss: 0.0634 - val_loss: 0.0826\n",
      "Epoch 44/500\n",
      "14/14 [==============================] - 0s 4ms/step - loss: 0.0640 - val_loss: 0.0840\n",
      "Epoch 45/500\n",
      "14/14 [==============================] - 0s 4ms/step - loss: 0.0629 - val_loss: 0.0854\n",
      "Epoch 46/500\n",
      "14/14 [==============================] - 0s 4ms/step - loss: 0.0435 - val_loss: 0.0858\n",
      "Epoch 47/500\n",
      "14/14 [==============================] - 0s 4ms/step - loss: 0.0658 - val_loss: 0.0865\n",
      "Epoch 48/500\n",
      "14/14 [==============================] - 0s 4ms/step - loss: 0.0497 - val_loss: 0.0858\n",
      "Epoch 49/500\n",
      "14/14 [==============================] - 0s 11ms/step - loss: 0.0552 - val_loss: 0.0841\n",
      "Epoch 50/500\n",
      "14/14 [==============================] - 0s 5ms/step - loss: 0.0670 - val_loss: 0.0841\n",
      "Epoch 51/500\n",
      "14/14 [==============================] - 0s 4ms/step - loss: 0.0468 - val_loss: 0.0888\n",
      "Epoch 52/500\n",
      "14/14 [==============================] - 0s 6ms/step - loss: 0.0400 - val_loss: 0.0914\n",
      "Epoch 53/500\n",
      "14/14 [==============================] - 0s 6ms/step - loss: 0.0509 - val_loss: 0.0909\n",
      "Epoch 54/500\n",
      "14/14 [==============================] - 0s 4ms/step - loss: 0.0591 - val_loss: 0.0895\n",
      "Restoring model weights from the end of the best epoch.\n",
      "Epoch 00054: early stopping\n"
     ]
    },
    {
     "data": {
      "text/plain": [
       "<keras.callbacks.History at 0x7fc6c8538820>"
      ]
     },
     "execution_count": 25,
     "metadata": {},
     "output_type": "execute_result"
    }
   ],
   "source": [
    "model_adam.fit(X_train_std, y_train, epochs=500,\n",
    "               validation_data=(X_test_std, y_test),\n",
    "               callbacks=[early_stop, board])"
   ]
  },
  {
   "cell_type": "code",
   "execution_count": 27,
   "id": "a768b5b3",
   "metadata": {},
   "outputs": [
    {
     "name": "stdout",
     "output_type": "stream",
     "text": [
      "./logs/fit/Model 2 - Adam Std\n"
     ]
    }
   ],
   "source": [
    "print(log_directory)"
   ]
  },
  {
   "cell_type": "markdown",
   "id": "e8877195",
   "metadata": {},
   "source": [
    "### Model 3 : RMSProp optimizer + MinMaxScaler"
   ]
  },
  {
   "cell_type": "code",
   "execution_count": 28,
   "id": "b273764f",
   "metadata": {},
   "outputs": [
    {
     "name": "stderr",
     "output_type": "stream",
     "text": [
      "2021-10-28 12:20:02.252063: I tensorflow/core/profiler/lib/profiler_session.cc:131] Profiler session initializing.\n",
      "2021-10-28 12:20:02.252160: I tensorflow/core/profiler/lib/profiler_session.cc:146] Profiler session started.\n",
      "2021-10-28 12:20:02.252928: I tensorflow/core/profiler/lib/profiler_session.cc:164] Profiler session tear down.\n"
     ]
    }
   ],
   "source": [
    "log_directory = \"./logs/fit/\" + \"Model 3 - RMSProp MinMax\"\n",
    "\n",
    "board = TensorBoard(log_dir = log_directory,\n",
    "                    histogram_freq = 1,\n",
    "                    write_graph = True,\n",
    "                    write_images = False,\n",
    "                    update_freq = 'epoch',\n",
    "                    profile_batch = 2, # (DEFAULT)\n",
    "                    embeddings_freq = 1)"
   ]
  },
  {
   "cell_type": "code",
   "execution_count": 29,
   "id": "0011a9a4",
   "metadata": {},
   "outputs": [],
   "source": [
    "model_rms = Sequential()\n",
    "\n",
    "model_rms.add(Dense(30, activation=\"relu\"))\n",
    "model_rms.add(Dropout(0.25))\n",
    "\n",
    "model_rms.add(Dense(15, activation=\"relu\"))\n",
    "model_rms.add(Dropout(0.25))\n",
    "\n",
    "model_rms.add(Dense(1, activation=\"sigmoid\"))\n",
    "\n",
    "model_rms.compile(optimizer=\"rmsprop\", loss='binary_crossentropy')"
   ]
  },
  {
   "cell_type": "code",
   "execution_count": 30,
   "id": "e74aa0a9",
   "metadata": {},
   "outputs": [
    {
     "name": "stdout",
     "output_type": "stream",
     "text": [
      "Epoch 1/500\n",
      "14/14 [==============================] - 1s 16ms/step - loss: 0.6908 - val_loss: 0.6602\n"
     ]
    },
    {
     "name": "stderr",
     "output_type": "stream",
     "text": [
      "2021-10-28 12:20:11.843750: I tensorflow/core/profiler/lib/profiler_session.cc:131] Profiler session initializing.\n",
      "2021-10-28 12:20:11.843812: I tensorflow/core/profiler/lib/profiler_session.cc:146] Profiler session started.\n",
      "2021-10-28 12:20:11.885589: I tensorflow/core/profiler/lib/profiler_session.cc:66] Profiler session collecting data.\n",
      "2021-10-28 12:20:11.887032: I tensorflow/core/profiler/lib/profiler_session.cc:164] Profiler session tear down.\n",
      "2021-10-28 12:20:11.889117: I tensorflow/core/profiler/rpc/client/save_profile.cc:136] Creating directory: ./logs/fit/Model 3 - RMSProp MinMax/train/plugins/profile/2021_10_28_12_20_11\n",
      "\n",
      "2021-10-28 12:20:11.890154: I tensorflow/core/profiler/rpc/client/save_profile.cc:142] Dumped gzipped tool data for trace.json.gz to ./logs/fit/Model 3 - RMSProp MinMax/train/plugins/profile/2021_10_28_12_20_11/raman-HP-ENVY-x360.trace.json.gz\n",
      "2021-10-28 12:20:11.892028: I tensorflow/core/profiler/rpc/client/save_profile.cc:136] Creating directory: ./logs/fit/Model 3 - RMSProp MinMax/train/plugins/profile/2021_10_28_12_20_11\n",
      "\n",
      "2021-10-28 12:20:11.892133: I tensorflow/core/profiler/rpc/client/save_profile.cc:142] Dumped gzipped tool data for memory_profile.json.gz to ./logs/fit/Model 3 - RMSProp MinMax/train/plugins/profile/2021_10_28_12_20_11/raman-HP-ENVY-x360.memory_profile.json.gz\n",
      "2021-10-28 12:20:11.892530: I tensorflow/core/profiler/rpc/client/capture_profile.cc:251] Creating directory: ./logs/fit/Model 3 - RMSProp MinMax/train/plugins/profile/2021_10_28_12_20_11\n",
      "Dumped tool data for xplane.pb to ./logs/fit/Model 3 - RMSProp MinMax/train/plugins/profile/2021_10_28_12_20_11/raman-HP-ENVY-x360.xplane.pb\n",
      "Dumped tool data for overview_page.pb to ./logs/fit/Model 3 - RMSProp MinMax/train/plugins/profile/2021_10_28_12_20_11/raman-HP-ENVY-x360.overview_page.pb\n",
      "Dumped tool data for input_pipeline.pb to ./logs/fit/Model 3 - RMSProp MinMax/train/plugins/profile/2021_10_28_12_20_11/raman-HP-ENVY-x360.input_pipeline.pb\n",
      "Dumped tool data for tensorflow_stats.pb to ./logs/fit/Model 3 - RMSProp MinMax/train/plugins/profile/2021_10_28_12_20_11/raman-HP-ENVY-x360.tensorflow_stats.pb\n",
      "Dumped tool data for kernel_stats.pb to ./logs/fit/Model 3 - RMSProp MinMax/train/plugins/profile/2021_10_28_12_20_11/raman-HP-ENVY-x360.kernel_stats.pb\n",
      "\n"
     ]
    },
    {
     "name": "stdout",
     "output_type": "stream",
     "text": [
      "Epoch 2/500\n",
      "14/14 [==============================] - 0s 6ms/step - loss: 0.6558 - val_loss: 0.6287\n",
      "Epoch 3/500\n",
      "14/14 [==============================] - 0s 5ms/step - loss: 0.6359 - val_loss: 0.5990\n",
      "Epoch 4/500\n",
      "14/14 [==============================] - 0s 4ms/step - loss: 0.5941 - val_loss: 0.5667\n",
      "Epoch 5/500\n",
      "14/14 [==============================] - 0s 4ms/step - loss: 0.5749 - val_loss: 0.5359\n",
      "Epoch 6/500\n",
      "14/14 [==============================] - 0s 6ms/step - loss: 0.5479 - val_loss: 0.5002\n",
      "Epoch 7/500\n",
      "14/14 [==============================] - 0s 5ms/step - loss: 0.5223 - val_loss: 0.4678\n",
      "Epoch 8/500\n",
      "14/14 [==============================] - 0s 4ms/step - loss: 0.4867 - val_loss: 0.4316\n",
      "Epoch 9/500\n",
      "14/14 [==============================] - 0s 4ms/step - loss: 0.4547 - val_loss: 0.3981\n",
      "Epoch 10/500\n",
      "14/14 [==============================] - 0s 4ms/step - loss: 0.4308 - val_loss: 0.3677\n",
      "Epoch 11/500\n",
      "14/14 [==============================] - 0s 14ms/step - loss: 0.4056 - val_loss: 0.3387\n",
      "Epoch 12/500\n",
      "14/14 [==============================] - 0s 9ms/step - loss: 0.3780 - val_loss: 0.3117\n",
      "Epoch 13/500\n",
      "14/14 [==============================] - 0s 5ms/step - loss: 0.3693 - val_loss: 0.2918\n",
      "Epoch 14/500\n",
      "14/14 [==============================] - 0s 5ms/step - loss: 0.3493 - val_loss: 0.2687\n",
      "Epoch 15/500\n",
      "14/14 [==============================] - 0s 8ms/step - loss: 0.3085 - val_loss: 0.2506\n",
      "Epoch 16/500\n",
      "14/14 [==============================] - 0s 15ms/step - loss: 0.2899 - val_loss: 0.2324\n",
      "Epoch 17/500\n",
      "14/14 [==============================] - 0s 6ms/step - loss: 0.2820 - val_loss: 0.2141\n",
      "Epoch 18/500\n",
      "14/14 [==============================] - 0s 5ms/step - loss: 0.2675 - val_loss: 0.2036\n",
      "Epoch 19/500\n",
      "14/14 [==============================] - 0s 4ms/step - loss: 0.2745 - val_loss: 0.1933\n",
      "Epoch 20/500\n",
      "14/14 [==============================] - 0s 4ms/step - loss: 0.2630 - val_loss: 0.1871\n",
      "Epoch 21/500\n",
      "14/14 [==============================] - 0s 5ms/step - loss: 0.2468 - val_loss: 0.1799\n",
      "Epoch 22/500\n",
      "14/14 [==============================] - 0s 6ms/step - loss: 0.2562 - val_loss: 0.1729\n",
      "Epoch 23/500\n",
      "14/14 [==============================] - 0s 5ms/step - loss: 0.2124 - val_loss: 0.1655\n",
      "Epoch 24/500\n",
      "14/14 [==============================] - 0s 4ms/step - loss: 0.2272 - val_loss: 0.1599\n",
      "Epoch 25/500\n",
      "14/14 [==============================] - 0s 5ms/step - loss: 0.2105 - val_loss: 0.1495\n",
      "Epoch 26/500\n",
      "14/14 [==============================] - 0s 5ms/step - loss: 0.2108 - val_loss: 0.1451\n",
      "Epoch 27/500\n",
      "14/14 [==============================] - 0s 5ms/step - loss: 0.2126 - val_loss: 0.1433\n",
      "Epoch 28/500\n",
      "14/14 [==============================] - 0s 5ms/step - loss: 0.1972 - val_loss: 0.1454\n",
      "Epoch 29/500\n",
      "14/14 [==============================] - 0s 5ms/step - loss: 0.1989 - val_loss: 0.1349\n",
      "Epoch 30/500\n",
      "14/14 [==============================] - 0s 4ms/step - loss: 0.1701 - val_loss: 0.1464\n",
      "Epoch 31/500\n",
      "14/14 [==============================] - 0s 4ms/step - loss: 0.1919 - val_loss: 0.1471\n",
      "Epoch 32/500\n",
      "14/14 [==============================] - 0s 4ms/step - loss: 0.1649 - val_loss: 0.1219\n",
      "Epoch 33/500\n",
      "14/14 [==============================] - 0s 5ms/step - loss: 0.1705 - val_loss: 0.1228\n",
      "Epoch 34/500\n",
      "14/14 [==============================] - 0s 5ms/step - loss: 0.1583 - val_loss: 0.1143\n",
      "Epoch 35/500\n",
      "14/14 [==============================] - 0s 5ms/step - loss: 0.1765 - val_loss: 0.1159\n",
      "Epoch 36/500\n",
      "14/14 [==============================] - 0s 5ms/step - loss: 0.1432 - val_loss: 0.1207\n",
      "Epoch 37/500\n",
      "14/14 [==============================] - 0s 4ms/step - loss: 0.1602 - val_loss: 0.1111\n",
      "Epoch 38/500\n",
      "14/14 [==============================] - 0s 4ms/step - loss: 0.1448 - val_loss: 0.1060\n",
      "Epoch 39/500\n",
      "14/14 [==============================] - 0s 4ms/step - loss: 0.1611 - val_loss: 0.1166\n",
      "Epoch 40/500\n",
      "14/14 [==============================] - 0s 4ms/step - loss: 0.1338 - val_loss: 0.1032\n",
      "Epoch 41/500\n",
      "14/14 [==============================] - 0s 4ms/step - loss: 0.1362 - val_loss: 0.0995\n",
      "Epoch 42/500\n",
      "14/14 [==============================] - 0s 5ms/step - loss: 0.1464 - val_loss: 0.0991\n",
      "Epoch 43/500\n",
      "14/14 [==============================] - 0s 4ms/step - loss: 0.1402 - val_loss: 0.1003\n",
      "Epoch 44/500\n",
      "14/14 [==============================] - 0s 4ms/step - loss: 0.1240 - val_loss: 0.0952\n",
      "Epoch 45/500\n",
      "14/14 [==============================] - 0s 4ms/step - loss: 0.1029 - val_loss: 0.0935\n",
      "Epoch 46/500\n",
      "14/14 [==============================] - 0s 4ms/step - loss: 0.1280 - val_loss: 0.0975\n",
      "Epoch 47/500\n",
      "14/14 [==============================] - 0s 4ms/step - loss: 0.1169 - val_loss: 0.0915\n",
      "Epoch 48/500\n",
      "14/14 [==============================] - 0s 4ms/step - loss: 0.1181 - val_loss: 0.0923\n",
      "Epoch 49/500\n",
      "14/14 [==============================] - 0s 4ms/step - loss: 0.1197 - val_loss: 0.0963\n",
      "Epoch 50/500\n",
      "14/14 [==============================] - 0s 4ms/step - loss: 0.1089 - val_loss: 0.0929\n",
      "Epoch 51/500\n",
      "14/14 [==============================] - 0s 4ms/step - loss: 0.1268 - val_loss: 0.0890\n",
      "Epoch 52/500\n",
      "14/14 [==============================] - 0s 5ms/step - loss: 0.1031 - val_loss: 0.0883\n",
      "Epoch 53/500\n",
      "14/14 [==============================] - 0s 3ms/step - loss: 0.1107 - val_loss: 0.0856\n",
      "Epoch 54/500\n",
      "14/14 [==============================] - 0s 4ms/step - loss: 0.1120 - val_loss: 0.0955\n",
      "Epoch 55/500\n",
      "14/14 [==============================] - 0s 4ms/step - loss: 0.1012 - val_loss: 0.0934\n",
      "Epoch 56/500\n",
      "14/14 [==============================] - 0s 4ms/step - loss: 0.1203 - val_loss: 0.0861\n",
      "Epoch 57/500\n",
      "14/14 [==============================] - 0s 4ms/step - loss: 0.0987 - val_loss: 0.0906\n",
      "Epoch 58/500\n",
      "14/14 [==============================] - 0s 4ms/step - loss: 0.1024 - val_loss: 0.0909\n",
      "Epoch 59/500\n",
      "14/14 [==============================] - 0s 4ms/step - loss: 0.1120 - val_loss: 0.0815\n",
      "Epoch 60/500\n",
      "14/14 [==============================] - 0s 4ms/step - loss: 0.1020 - val_loss: 0.0823\n",
      "Epoch 61/500\n",
      "14/14 [==============================] - 0s 5ms/step - loss: 0.0978 - val_loss: 0.0812\n",
      "Epoch 62/500\n",
      "14/14 [==============================] - 0s 5ms/step - loss: 0.1029 - val_loss: 0.0903\n",
      "Epoch 63/500\n",
      "14/14 [==============================] - 0s 4ms/step - loss: 0.0978 - val_loss: 0.1024\n",
      "Epoch 64/500\n",
      "14/14 [==============================] - 0s 4ms/step - loss: 0.0934 - val_loss: 0.1135\n",
      "Epoch 65/500\n",
      "14/14 [==============================] - 0s 4ms/step - loss: 0.0980 - val_loss: 0.0985\n",
      "Epoch 66/500\n",
      "14/14 [==============================] - 0s 4ms/step - loss: 0.0841 - val_loss: 0.0943\n",
      "Epoch 67/500\n",
      "14/14 [==============================] - 0s 4ms/step - loss: 0.0839 - val_loss: 0.0783\n",
      "Epoch 68/500\n",
      "14/14 [==============================] - 0s 4ms/step - loss: 0.0915 - val_loss: 0.0896\n",
      "Epoch 69/500\n",
      "14/14 [==============================] - 0s 6ms/step - loss: 0.0744 - val_loss: 0.0890\n",
      "Epoch 70/500\n",
      "14/14 [==============================] - 0s 14ms/step - loss: 0.0904 - val_loss: 0.0793\n",
      "Epoch 71/500\n",
      "14/14 [==============================] - 0s 9ms/step - loss: 0.0833 - val_loss: 0.0918\n",
      "Epoch 72/500\n",
      "14/14 [==============================] - 0s 13ms/step - loss: 0.0897 - val_loss: 0.0816\n",
      "Epoch 73/500\n",
      "14/14 [==============================] - 0s 5ms/step - loss: 0.0863 - val_loss: 0.0787\n",
      "Epoch 74/500\n",
      "14/14 [==============================] - 0s 6ms/step - loss: 0.0765 - val_loss: 0.0836\n",
      "Epoch 75/500\n",
      "14/14 [==============================] - 0s 12ms/step - loss: 0.0809 - val_loss: 0.0855\n",
      "Epoch 76/500\n",
      "14/14 [==============================] - 0s 14ms/step - loss: 0.0802 - val_loss: 0.0747\n",
      "Epoch 77/500\n",
      "14/14 [==============================] - 0s 6ms/step - loss: 0.0735 - val_loss: 0.0947\n",
      "Epoch 78/500\n",
      "14/14 [==============================] - 0s 7ms/step - loss: 0.0804 - val_loss: 0.0869\n",
      "Epoch 79/500\n",
      "14/14 [==============================] - 0s 11ms/step - loss: 0.0819 - val_loss: 0.0807\n",
      "Epoch 80/500\n",
      "14/14 [==============================] - 0s 4ms/step - loss: 0.0767 - val_loss: 0.0769\n",
      "Epoch 81/500\n",
      "14/14 [==============================] - 0s 4ms/step - loss: 0.0683 - val_loss: 0.0805\n",
      "Epoch 82/500\n",
      "14/14 [==============================] - 0s 4ms/step - loss: 0.0844 - val_loss: 0.0753\n",
      "Epoch 83/500\n",
      "14/14 [==============================] - 0s 4ms/step - loss: 0.0874 - val_loss: 0.0891\n"
     ]
    },
    {
     "name": "stdout",
     "output_type": "stream",
     "text": [
      "Epoch 84/500\n",
      "14/14 [==============================] - 0s 4ms/step - loss: 0.0880 - val_loss: 0.0889\n",
      "Epoch 85/500\n",
      "14/14 [==============================] - 0s 4ms/step - loss: 0.0770 - val_loss: 0.0840\n",
      "Epoch 86/500\n",
      "14/14 [==============================] - 0s 4ms/step - loss: 0.0748 - val_loss: 0.1078\n",
      "Epoch 87/500\n",
      "14/14 [==============================] - 0s 4ms/step - loss: 0.0775 - val_loss: 0.0791\n",
      "Epoch 88/500\n",
      "14/14 [==============================] - 0s 4ms/step - loss: 0.0818 - val_loss: 0.0767\n",
      "Epoch 89/500\n",
      "14/14 [==============================] - 0s 5ms/step - loss: 0.0779 - val_loss: 0.0840\n",
      "Epoch 90/500\n",
      "14/14 [==============================] - 0s 4ms/step - loss: 0.0759 - val_loss: 0.0783\n",
      "Epoch 91/500\n",
      "14/14 [==============================] - 0s 4ms/step - loss: 0.0826 - val_loss: 0.0784\n",
      "Epoch 92/500\n",
      "14/14 [==============================] - 0s 4ms/step - loss: 0.0756 - val_loss: 0.1071\n",
      "Epoch 93/500\n",
      "14/14 [==============================] - 0s 6ms/step - loss: 0.0724 - val_loss: 0.0735\n",
      "Epoch 94/500\n",
      "14/14 [==============================] - 0s 4ms/step - loss: 0.0579 - val_loss: 0.0774\n",
      "Epoch 95/500\n",
      "14/14 [==============================] - 0s 4ms/step - loss: 0.0597 - val_loss: 0.0721\n",
      "Epoch 96/500\n",
      "14/14 [==============================] - 0s 4ms/step - loss: 0.0790 - val_loss: 0.0740\n",
      "Epoch 97/500\n",
      "14/14 [==============================] - 0s 4ms/step - loss: 0.0678 - val_loss: 0.0801\n",
      "Epoch 98/500\n",
      "14/14 [==============================] - 0s 6ms/step - loss: 0.0719 - val_loss: 0.0884\n",
      "Epoch 99/500\n",
      "14/14 [==============================] - 0s 4ms/step - loss: 0.0588 - val_loss: 0.0857\n",
      "Epoch 100/500\n",
      "14/14 [==============================] - 0s 4ms/step - loss: 0.0776 - val_loss: 0.0730\n",
      "Epoch 101/500\n",
      "14/14 [==============================] - 0s 4ms/step - loss: 0.0797 - val_loss: 0.0772\n",
      "Epoch 102/500\n",
      "14/14 [==============================] - 0s 5ms/step - loss: 0.0594 - val_loss: 0.0794\n",
      "Epoch 103/500\n",
      "14/14 [==============================] - 0s 6ms/step - loss: 0.0709 - val_loss: 0.0869\n",
      "Epoch 104/500\n",
      "14/14 [==============================] - 0s 8ms/step - loss: 0.0581 - val_loss: 0.0791\n",
      "Epoch 105/500\n",
      "14/14 [==============================] - 0s 4ms/step - loss: 0.0646 - val_loss: 0.1083\n",
      "Epoch 106/500\n",
      "14/14 [==============================] - 0s 4ms/step - loss: 0.0720 - val_loss: 0.0883\n",
      "Epoch 107/500\n",
      "14/14 [==============================] - 0s 4ms/step - loss: 0.0706 - val_loss: 0.0780\n",
      "Epoch 108/500\n",
      "14/14 [==============================] - 0s 4ms/step - loss: 0.0653 - val_loss: 0.0992\n",
      "Epoch 109/500\n",
      "14/14 [==============================] - 0s 5ms/step - loss: 0.0697 - val_loss: 0.0987\n",
      "Epoch 110/500\n",
      "14/14 [==============================] - 0s 4ms/step - loss: 0.0758 - val_loss: 0.0891\n",
      "Epoch 111/500\n",
      "14/14 [==============================] - 0s 4ms/step - loss: 0.0767 - val_loss: 0.1087\n",
      "Epoch 112/500\n",
      "14/14 [==============================] - 0s 4ms/step - loss: 0.0683 - val_loss: 0.0950\n",
      "Epoch 113/500\n",
      "14/14 [==============================] - 0s 4ms/step - loss: 0.0689 - val_loss: 0.0741\n",
      "Epoch 114/500\n",
      "14/14 [==============================] - 0s 3ms/step - loss: 0.0634 - val_loss: 0.0813\n",
      "Epoch 115/500\n",
      "14/14 [==============================] - 0s 4ms/step - loss: 0.0663 - val_loss: 0.0904\n",
      "Epoch 116/500\n",
      "14/14 [==============================] - 0s 4ms/step - loss: 0.0632 - val_loss: 0.0915\n",
      "Epoch 117/500\n",
      "14/14 [==============================] - 0s 4ms/step - loss: 0.0672 - val_loss: 0.0932\n",
      "Epoch 118/500\n",
      "14/14 [==============================] - 0s 4ms/step - loss: 0.0863 - val_loss: 0.0938\n",
      "Epoch 119/500\n",
      "14/14 [==============================] - 0s 4ms/step - loss: 0.0556 - val_loss: 0.1011\n",
      "Epoch 120/500\n",
      "14/14 [==============================] - 0s 11ms/step - loss: 0.0565 - val_loss: 0.1244\n",
      "Restoring model weights from the end of the best epoch.\n",
      "Epoch 00120: early stopping\n"
     ]
    },
    {
     "data": {
      "text/plain": [
       "<keras.callbacks.History at 0x7fc6c84c6550>"
      ]
     },
     "execution_count": 30,
     "metadata": {},
     "output_type": "execute_result"
    }
   ],
   "source": [
    "model_rms.fit(X_train_minmax, y_train, epochs=500,\n",
    "              validation_data=(X_test_minmax, y_test),\n",
    "              callbacks=[early_stop, board])"
   ]
  },
  {
   "cell_type": "code",
   "execution_count": 31,
   "id": "b3b2a5e6",
   "metadata": {},
   "outputs": [
    {
     "name": "stdout",
     "output_type": "stream",
     "text": [
      "./logs/fit/Model 3 - RMSProp MinMax\n"
     ]
    }
   ],
   "source": [
    "print(log_directory)"
   ]
  },
  {
   "cell_type": "markdown",
   "id": "f284d6fc",
   "metadata": {},
   "source": [
    "### Model 4 : RMSProp optimizer + StandardScaler"
   ]
  },
  {
   "cell_type": "code",
   "execution_count": 32,
   "id": "d09515fe",
   "metadata": {},
   "outputs": [
    {
     "name": "stderr",
     "output_type": "stream",
     "text": [
      "2021-10-28 12:20:38.562311: I tensorflow/core/profiler/lib/profiler_session.cc:131] Profiler session initializing.\n",
      "2021-10-28 12:20:38.562404: I tensorflow/core/profiler/lib/profiler_session.cc:146] Profiler session started.\n",
      "2021-10-28 12:20:38.563209: I tensorflow/core/profiler/lib/profiler_session.cc:164] Profiler session tear down.\n"
     ]
    }
   ],
   "source": [
    "log_directory = \"./logs/fit/\" + \"Model 4 - RMSProp Std\"\n",
    "\n",
    "board = TensorBoard(log_dir = log_directory,\n",
    "                    histogram_freq = 1,\n",
    "                    write_graph = True,\n",
    "                    write_images = False,\n",
    "                    update_freq = 'epoch',\n",
    "                    profile_batch = 2, # (DEFAULT)\n",
    "                    embeddings_freq = 1)"
   ]
  },
  {
   "cell_type": "code",
   "execution_count": 33,
   "id": "4f0d8a91",
   "metadata": {},
   "outputs": [],
   "source": [
    "model_rms = Sequential()\n",
    "\n",
    "model_rms.add(Dense(30, activation=\"relu\"))\n",
    "model_rms.add(Dropout(0.25))\n",
    "\n",
    "model_rms.add(Dense(15, activation=\"relu\"))\n",
    "model_rms.add(Dropout(0.25))\n",
    "\n",
    "model_rms.add(Dense(1, activation=\"sigmoid\"))\n",
    "\n",
    "model_rms.compile(optimizer=\"rmsprop\", loss='binary_crossentropy')"
   ]
  },
  {
   "cell_type": "code",
   "execution_count": 34,
   "id": "7e4cac80",
   "metadata": {},
   "outputs": [
    {
     "name": "stdout",
     "output_type": "stream",
     "text": [
      "Epoch 1/500\n",
      "14/14 [==============================] - 1s 17ms/step - loss: 0.6380 - val_loss: 0.4337\n"
     ]
    },
    {
     "name": "stderr",
     "output_type": "stream",
     "text": [
      "2021-10-28 12:21:02.842364: I tensorflow/core/profiler/lib/profiler_session.cc:131] Profiler session initializing.\n",
      "2021-10-28 12:21:02.842545: I tensorflow/core/profiler/lib/profiler_session.cc:146] Profiler session started.\n",
      "2021-10-28 12:21:02.886936: I tensorflow/core/profiler/lib/profiler_session.cc:66] Profiler session collecting data.\n",
      "2021-10-28 12:21:02.888279: I tensorflow/core/profiler/lib/profiler_session.cc:164] Profiler session tear down.\n",
      "2021-10-28 12:21:02.890264: I tensorflow/core/profiler/rpc/client/save_profile.cc:136] Creating directory: ./logs/fit/Model 4 - RMSProp Std/train/plugins/profile/2021_10_28_12_21_02\n",
      "\n",
      "2021-10-28 12:21:02.891319: I tensorflow/core/profiler/rpc/client/save_profile.cc:142] Dumped gzipped tool data for trace.json.gz to ./logs/fit/Model 4 - RMSProp Std/train/plugins/profile/2021_10_28_12_21_02/raman-HP-ENVY-x360.trace.json.gz\n",
      "2021-10-28 12:21:02.893211: I tensorflow/core/profiler/rpc/client/save_profile.cc:136] Creating directory: ./logs/fit/Model 4 - RMSProp Std/train/plugins/profile/2021_10_28_12_21_02\n",
      "\n",
      "2021-10-28 12:21:02.893318: I tensorflow/core/profiler/rpc/client/save_profile.cc:142] Dumped gzipped tool data for memory_profile.json.gz to ./logs/fit/Model 4 - RMSProp Std/train/plugins/profile/2021_10_28_12_21_02/raman-HP-ENVY-x360.memory_profile.json.gz\n",
      "2021-10-28 12:21:02.893688: I tensorflow/core/profiler/rpc/client/capture_profile.cc:251] Creating directory: ./logs/fit/Model 4 - RMSProp Std/train/plugins/profile/2021_10_28_12_21_02\n",
      "Dumped tool data for xplane.pb to ./logs/fit/Model 4 - RMSProp Std/train/plugins/profile/2021_10_28_12_21_02/raman-HP-ENVY-x360.xplane.pb\n",
      "Dumped tool data for overview_page.pb to ./logs/fit/Model 4 - RMSProp Std/train/plugins/profile/2021_10_28_12_21_02/raman-HP-ENVY-x360.overview_page.pb\n",
      "Dumped tool data for input_pipeline.pb to ./logs/fit/Model 4 - RMSProp Std/train/plugins/profile/2021_10_28_12_21_02/raman-HP-ENVY-x360.input_pipeline.pb\n",
      "Dumped tool data for tensorflow_stats.pb to ./logs/fit/Model 4 - RMSProp Std/train/plugins/profile/2021_10_28_12_21_02/raman-HP-ENVY-x360.tensorflow_stats.pb\n",
      "Dumped tool data for kernel_stats.pb to ./logs/fit/Model 4 - RMSProp Std/train/plugins/profile/2021_10_28_12_21_02/raman-HP-ENVY-x360.kernel_stats.pb\n",
      "\n"
     ]
    },
    {
     "name": "stdout",
     "output_type": "stream",
     "text": [
      "Epoch 2/500\n",
      "14/14 [==============================] - 0s 10ms/step - loss: 0.4201 - val_loss: 0.2960\n",
      "Epoch 3/500\n",
      "14/14 [==============================] - 0s 5ms/step - loss: 0.3223 - val_loss: 0.2188\n",
      "Epoch 4/500\n",
      "14/14 [==============================] - 0s 4ms/step - loss: 0.2512 - val_loss: 0.1665\n",
      "Epoch 5/500\n",
      "14/14 [==============================] - 0s 6ms/step - loss: 0.2083 - val_loss: 0.1333\n",
      "Epoch 6/500\n",
      "14/14 [==============================] - 0s 8ms/step - loss: 0.1572 - val_loss: 0.1112\n",
      "Epoch 7/500\n",
      "14/14 [==============================] - 0s 12ms/step - loss: 0.1457 - val_loss: 0.0939\n",
      "Epoch 8/500\n",
      "14/14 [==============================] - 0s 4ms/step - loss: 0.1200 - val_loss: 0.0825\n",
      "Epoch 9/500\n",
      "14/14 [==============================] - 0s 5ms/step - loss: 0.1164 - val_loss: 0.0768\n",
      "Epoch 10/500\n",
      "14/14 [==============================] - 0s 4ms/step - loss: 0.1068 - val_loss: 0.0710\n",
      "Epoch 11/500\n",
      "14/14 [==============================] - 0s 16ms/step - loss: 0.0953 - val_loss: 0.0652\n",
      "Epoch 12/500\n",
      "14/14 [==============================] - 0s 5ms/step - loss: 0.1027 - val_loss: 0.0604\n",
      "Epoch 13/500\n",
      "14/14 [==============================] - 0s 6ms/step - loss: 0.0920 - val_loss: 0.0574\n",
      "Epoch 14/500\n",
      "14/14 [==============================] - 0s 5ms/step - loss: 0.0899 - val_loss: 0.0548\n",
      "Epoch 15/500\n",
      "14/14 [==============================] - 0s 5ms/step - loss: 0.0905 - val_loss: 0.0523\n",
      "Epoch 16/500\n",
      "14/14 [==============================] - 0s 4ms/step - loss: 0.0900 - val_loss: 0.0524\n",
      "Epoch 17/500\n",
      "14/14 [==============================] - 0s 5ms/step - loss: 0.0725 - val_loss: 0.0497\n",
      "Epoch 18/500\n",
      "14/14 [==============================] - 0s 4ms/step - loss: 0.0761 - val_loss: 0.0491\n",
      "Epoch 19/500\n",
      "14/14 [==============================] - 0s 4ms/step - loss: 0.0730 - val_loss: 0.0451\n",
      "Epoch 20/500\n",
      "14/14 [==============================] - 0s 4ms/step - loss: 0.0710 - val_loss: 0.0448\n",
      "Epoch 21/500\n",
      "14/14 [==============================] - 0s 4ms/step - loss: 0.0631 - val_loss: 0.0426\n",
      "Epoch 22/500\n",
      "14/14 [==============================] - 0s 17ms/step - loss: 0.0622 - val_loss: 0.0421\n",
      "Epoch 23/500\n",
      "14/14 [==============================] - 0s 19ms/step - loss: 0.0609 - val_loss: 0.0422\n",
      "Epoch 24/500\n",
      "14/14 [==============================] - 0s 4ms/step - loss: 0.0667 - val_loss: 0.0416\n",
      "Epoch 25/500\n",
      "14/14 [==============================] - 0s 5ms/step - loss: 0.0622 - val_loss: 0.0411\n",
      "Epoch 26/500\n",
      "14/14 [==============================] - 0s 4ms/step - loss: 0.0525 - val_loss: 0.0417\n",
      "Epoch 27/500\n",
      "14/14 [==============================] - 0s 4ms/step - loss: 0.0575 - val_loss: 0.0418\n",
      "Epoch 28/500\n",
      "14/14 [==============================] - 0s 5ms/step - loss: 0.0572 - val_loss: 0.0415\n",
      "Epoch 29/500\n",
      "14/14 [==============================] - 0s 4ms/step - loss: 0.0590 - val_loss: 0.0402\n",
      "Epoch 30/500\n",
      "14/14 [==============================] - 0s 4ms/step - loss: 0.0482 - val_loss: 0.0418\n",
      "Epoch 31/500\n",
      "14/14 [==============================] - 0s 4ms/step - loss: 0.0519 - val_loss: 0.0411\n",
      "Epoch 32/500\n",
      "14/14 [==============================] - 0s 5ms/step - loss: 0.0669 - val_loss: 0.0436\n",
      "Epoch 33/500\n",
      "14/14 [==============================] - 0s 5ms/step - loss: 0.0544 - val_loss: 0.0400\n",
      "Epoch 34/500\n",
      "14/14 [==============================] - 0s 5ms/step - loss: 0.0516 - val_loss: 0.0417\n",
      "Epoch 35/500\n",
      "14/14 [==============================] - 0s 4ms/step - loss: 0.0554 - val_loss: 0.0420\n",
      "Epoch 36/500\n",
      "14/14 [==============================] - 0s 5ms/step - loss: 0.0526 - val_loss: 0.0393\n",
      "Epoch 37/500\n",
      "14/14 [==============================] - 0s 5ms/step - loss: 0.0420 - val_loss: 0.0386\n",
      "Epoch 38/500\n",
      "14/14 [==============================] - 0s 3ms/step - loss: 0.0492 - val_loss: 0.0373\n",
      "Epoch 39/500\n",
      "14/14 [==============================] - 0s 3ms/step - loss: 0.0563 - val_loss: 0.0385\n",
      "Epoch 40/500\n",
      "14/14 [==============================] - 0s 3ms/step - loss: 0.0402 - val_loss: 0.0387\n",
      "Epoch 41/500\n",
      "14/14 [==============================] - 0s 11ms/step - loss: 0.0464 - val_loss: 0.0398\n",
      "Epoch 42/500\n",
      "14/14 [==============================] - 0s 4ms/step - loss: 0.0439 - val_loss: 0.0391\n",
      "Epoch 43/500\n",
      "14/14 [==============================] - 0s 4ms/step - loss: 0.0492 - val_loss: 0.0398\n",
      "Epoch 44/500\n",
      "14/14 [==============================] - 0s 4ms/step - loss: 0.0490 - val_loss: 0.0415\n",
      "Epoch 45/500\n",
      "14/14 [==============================] - 0s 4ms/step - loss: 0.0563 - val_loss: 0.0431\n",
      "Epoch 46/500\n",
      "14/14 [==============================] - 0s 4ms/step - loss: 0.0427 - val_loss: 0.0446\n",
      "Epoch 47/500\n",
      "14/14 [==============================] - 0s 4ms/step - loss: 0.0387 - val_loss: 0.0453\n",
      "Epoch 48/500\n",
      "14/14 [==============================] - 0s 4ms/step - loss: 0.0369 - val_loss: 0.0477\n",
      "Epoch 49/500\n",
      "14/14 [==============================] - 0s 4ms/step - loss: 0.0404 - val_loss: 0.0457\n",
      "Epoch 50/500\n",
      "14/14 [==============================] - 0s 4ms/step - loss: 0.0391 - val_loss: 0.0470\n",
      "Epoch 51/500\n",
      "14/14 [==============================] - 0s 4ms/step - loss: 0.0418 - val_loss: 0.0493\n",
      "Epoch 52/500\n",
      "14/14 [==============================] - 0s 4ms/step - loss: 0.0490 - val_loss: 0.0444\n",
      "Epoch 53/500\n",
      "14/14 [==============================] - 0s 4ms/step - loss: 0.0452 - val_loss: 0.0461\n",
      "Epoch 54/500\n",
      "14/14 [==============================] - 0s 4ms/step - loss: 0.0365 - val_loss: 0.0459\n",
      "Epoch 55/500\n",
      "14/14 [==============================] - 0s 4ms/step - loss: 0.0327 - val_loss: 0.0432\n",
      "Epoch 56/500\n",
      "14/14 [==============================] - 0s 4ms/step - loss: 0.0341 - val_loss: 0.0471\n",
      "Epoch 57/500\n",
      "14/14 [==============================] - 0s 6ms/step - loss: 0.0417 - val_loss: 0.0445\n",
      "Epoch 58/500\n",
      "14/14 [==============================] - 0s 6ms/step - loss: 0.0394 - val_loss: 0.0414\n",
      "Epoch 59/500\n",
      "14/14 [==============================] - 0s 7ms/step - loss: 0.0332 - val_loss: 0.0406\n",
      "Epoch 60/500\n",
      "14/14 [==============================] - 0s 4ms/step - loss: 0.0347 - val_loss: 0.0452\n",
      "Epoch 61/500\n",
      "14/14 [==============================] - 0s 4ms/step - loss: 0.0296 - val_loss: 0.0477\n",
      "Epoch 62/500\n",
      "14/14 [==============================] - 0s 4ms/step - loss: 0.0239 - val_loss: 0.0561\n",
      "Epoch 63/500\n",
      "14/14 [==============================] - 0s 5ms/step - loss: 0.0339 - val_loss: 0.0452\n",
      "Restoring model weights from the end of the best epoch.\n",
      "Epoch 00063: early stopping\n"
     ]
    },
    {
     "data": {
      "text/plain": [
       "<keras.callbacks.History at 0x7fc6c82334c0>"
      ]
     },
     "execution_count": 34,
     "metadata": {},
     "output_type": "execute_result"
    }
   ],
   "source": [
    "model_rms.fit(X_train_std, y_train, epochs=500,\n",
    "              validation_data=(X_test_std, y_test),\n",
    "              callbacks=[early_stop, board])"
   ]
  },
  {
   "cell_type": "code",
   "execution_count": 35,
   "id": "399f26b7",
   "metadata": {},
   "outputs": [
    {
     "name": "stdout",
     "output_type": "stream",
     "text": [
      "./logs/fit/Model 4 - RMSProp Std\n"
     ]
    }
   ],
   "source": [
    "print(log_directory)"
   ]
  },
  {
   "cell_type": "markdown",
   "id": "731030fc",
   "metadata": {},
   "source": [
    "## Running Tensorboard"
   ]
  },
  {
   "cell_type": "markdown",
   "id": "87b44631",
   "metadata": {},
   "source": [
    "- <big>Run **`Terminal`** and navigate to **`pwd`** shown above</big><br><br>\n",
    "\n",
    "- <big>Run the code : **`tensorboard --logdir ./logs/fit`**</big><br><br>\n",
    "\n",
    "- <big>View the TensorBoard in a Web Browser @ **`http://localhost:6006/`**</big>"
   ]
  },
  {
   "cell_type": "markdown",
   "id": "9c145221",
   "metadata": {},
   "source": [
    "## TensorBoard Analysis Result\n",
    "___\n",
    "\n",
    "<big>After comparing the visualization on TendorBoard, Best Model = **`RMSProp Optimizer with StandardScaler`**</big>"
   ]
  }
 ],
 "metadata": {
  "kernelspec": {
   "display_name": "Python 3 (ipykernel)",
   "language": "python",
   "name": "python3"
  },
  "language_info": {
   "codemirror_mode": {
    "name": "ipython",
    "version": 3
   },
   "file_extension": ".py",
   "mimetype": "text/x-python",
   "name": "python",
   "nbconvert_exporter": "python",
   "pygments_lexer": "ipython3",
   "version": "3.8.10"
  }
 },
 "nbformat": 4,
 "nbformat_minor": 5
}
